{
 "cells": [
  {
   "cell_type": "code",
   "execution_count": 40,
   "metadata": {},
   "outputs": [],
   "source": [
    "import refinitiv.dataplatform as rdp\n",
    "import ipywidgets as widgets\n",
    "import pandas as pd\n",
    "import ipysheet\n",
    "from datetime import datetime, timedelta"
   ]
  },
  {
   "cell_type": "code",
   "execution_count": 41,
   "metadata": {
    "tags": []
   },
   "outputs": [
    {
     "name": "stderr",
     "output_type": "stream",
     "text": [
      "2021-09-03 17:56:21,807 P[20348] [MainThread 14792] Exception in callback _ProactorBasePipeTransport._call_connection_lost(None)\n",
      "handle: <Handle _ProactorBasePipeTransport._call_connection_lost(None)>\n",
      "Traceback (most recent call last):\n",
      "  File \"c:\\users\\u6082174.ten\\appdata\\local\\programs\\python\\python38-32\\lib\\site-packages\\nest_asyncio.py\", line 150, in run\n",
      "    ctx.run(self._callback, *self._args)\n",
      "  File \"c:\\users\\u6082174.ten\\appdata\\local\\programs\\python\\python38-32\\lib\\asyncio\\proactor_events.py\", line 162, in _call_connection_lost\n",
      "    self._sock.shutdown(socket.SHUT_RDWR)\n",
      "ConnectionResetError: [WinError 10054] An existing connection was forcibly closed by the remote host\n"
     ]
    }
   ],
   "source": [
    "import eikon as ek\n",
    "# The key is placed in a text file so that it may be used in this code without showing it itself:\n",
    "eikon_key = open(\"eikon.txt\", \"r\")\n",
    "ek.set_app_key(str(eikon_key.read()))\n",
    "# It is best to close the files we opened in order to make sure that we don't stop any other services/programs from accessing them if they need to:\n",
    "eikon_key.close()\n",
    "\n",
    "# ## If in Codebook:\n",
    "# rdp.open_desktop_session('DEFAULT_CODE_BOOK_APP_KEY')\n",
    "# ek = rdp.legacy"
   ]
  },
  {
   "cell_type": "code",
   "execution_count": 42,
   "metadata": {},
   "outputs": [],
   "source": [
    "ccy = ['SGD']\n",
    "depo_tenors = ['ON', '1W', '1M', '3M', '6M', '1Y']\n",
    "inst_dict = {'depo':'D=', 'fx_forward':'=', 'fx_fwd_outright':'V='}\n",
    "fields_list = ['GV4_TEXT', 'BID', 'ASK']"
   ]
  },
  {
   "cell_type": "code",
   "execution_count": 43,
   "metadata": {},
   "outputs": [
    {
     "data": {
      "text/plain": [
       "['ON', '1W', '1M', '3M', '6M', '1Y']"
      ]
     },
     "execution_count": 43,
     "metadata": {},
     "output_type": "execute_result"
    }
   ],
   "source": [
    "ipycols = []\n",
    "fields = fields_list\n",
    "currency = ccy\n",
    "inst_type = 'fx_forward'\n",
    "custom_column_names = ['Tenor', 'BID', 'ASK']\n",
    "tenors = depo_tenors\n",
    "tenors"
   ]
  },
  {
   "cell_type": "code",
   "execution_count": 44,
   "metadata": {},
   "outputs": [
    {
     "data": {
      "text/plain": [
       "'='"
      ]
     },
     "execution_count": 44,
     "metadata": {},
     "output_type": "execute_result"
    }
   ],
   "source": [
    "suffix = inst_dict[inst_type]\n",
    "suffix"
   ]
  },
  {
   "cell_type": "code",
   "execution_count": 45,
   "metadata": {},
   "outputs": [
    {
     "data": {
      "text/plain": [
       "['SGDON=', 'SGD1W=', 'SGD1M=', 'SGD3M=', 'SGD6M=', 'SGD1Y=']"
      ]
     },
     "execution_count": 45,
     "metadata": {},
     "output_type": "execute_result"
    }
   ],
   "source": [
    "init_port = list(map(lambda t: '%s%s%s' % (currency[0], t, suffix), tenors))  # same as ' [f\"{currency[0]}{i}{suffix}\" for i in tenors] '\n",
    "init_port"
   ]
  },
  {
   "cell_type": "code",
   "execution_count": 46,
   "metadata": {},
   "outputs": [
    {
     "data": {
      "text/plain": [
       "'SGDON='"
      ]
     },
     "execution_count": 46,
     "metadata": {},
     "output_type": "execute_result"
    }
   ],
   "source": [
    "instrument_name = init_port[0]\n",
    "instrument_name"
   ]
  },
  {
   "cell_type": "code",
   "execution_count": 47,
   "metadata": {},
   "outputs": [
    {
     "data": {
      "text/plain": [
       "{'SGDON=': 0, 'SGD1W=': 1, 'SGD1M=': 2, 'SGD3M=': 3, 'SGD6M=': 4, 'SGD1Y=': 5}"
      ]
     },
     "execution_count": 47,
     "metadata": {},
     "output_type": "execute_result"
    }
   ],
   "source": [
    "dict_port = dict(zip(list(init_port), range(len(init_port))))\n",
    "dict_port"
   ]
  },
  {
   "cell_type": "code",
   "execution_count": 48,
   "metadata": {},
   "outputs": [
    {
     "data": {
      "text/html": [
       "<div>\n",
       "<style scoped>\n",
       "    .dataframe tbody tr th:only-of-type {\n",
       "        vertical-align: middle;\n",
       "    }\n",
       "\n",
       "    .dataframe tbody tr th {\n",
       "        vertical-align: top;\n",
       "    }\n",
       "\n",
       "    .dataframe thead th {\n",
       "        text-align: right;\n",
       "    }\n",
       "</style>\n",
       "<table border=\"1\" class=\"dataframe\">\n",
       "  <thead>\n",
       "    <tr style=\"text-align: right;\">\n",
       "      <th></th>\n",
       "      <th>Instrument</th>\n",
       "      <th>GV4_TEXT</th>\n",
       "      <th>BID</th>\n",
       "      <th>ASK</th>\n",
       "    </tr>\n",
       "  </thead>\n",
       "  <tbody>\n",
       "    <tr>\n",
       "      <th>0</th>\n",
       "      <td>SGDON=</td>\n",
       "      <td>ON</td>\n",
       "      <td>0.23</td>\n",
       "      <td>0.33</td>\n",
       "    </tr>\n",
       "    <tr>\n",
       "      <th>1</th>\n",
       "      <td>SGD1W=</td>\n",
       "      <td>&lt;NA&gt;</td>\n",
       "      <td>&lt;NA&gt;</td>\n",
       "      <td>&lt;NA&gt;</td>\n",
       "    </tr>\n",
       "    <tr>\n",
       "      <th>2</th>\n",
       "      <td>SGD1M=</td>\n",
       "      <td>1M</td>\n",
       "      <td>0.8</td>\n",
       "      <td>1.0</td>\n",
       "    </tr>\n",
       "    <tr>\n",
       "      <th>3</th>\n",
       "      <td>SGD3M=</td>\n",
       "      <td>3M</td>\n",
       "      <td>2.27</td>\n",
       "      <td>2.47</td>\n",
       "    </tr>\n",
       "    <tr>\n",
       "      <th>4</th>\n",
       "      <td>SGD6M=</td>\n",
       "      <td>6M</td>\n",
       "      <td>4.55</td>\n",
       "      <td>4.95</td>\n",
       "    </tr>\n",
       "    <tr>\n",
       "      <th>5</th>\n",
       "      <td>SGD1Y=</td>\n",
       "      <td>1Y</td>\n",
       "      <td>7.0</td>\n",
       "      <td>8.0</td>\n",
       "    </tr>\n",
       "  </tbody>\n",
       "</table>\n",
       "</div>"
      ],
      "text/plain": [
       "  Instrument GV4_TEXT   BID   ASK\n",
       "0     SGDON=       ON  0.23  0.33\n",
       "1     SGD1W=     <NA>  <NA>  <NA>\n",
       "2     SGD1M=       1M   0.8   1.0\n",
       "3     SGD3M=       3M  2.27  2.47\n",
       "4     SGD6M=       6M  4.55  4.95\n",
       "5     SGD1Y=       1Y   7.0   8.0"
      ]
     },
     "execution_count": 48,
     "metadata": {},
     "output_type": "execute_result"
    }
   ],
   "source": [
    "_df, err = ek.get_data(init_port, fields)\n",
    "_df"
   ]
  },
  {
   "cell_type": "code",
   "execution_count": 49,
   "metadata": {},
   "outputs": [
    {
     "data": {
      "text/html": [
       "<div>\n",
       "<style scoped>\n",
       "    .dataframe tbody tr th:only-of-type {\n",
       "        vertical-align: middle;\n",
       "    }\n",
       "\n",
       "    .dataframe tbody tr th {\n",
       "        vertical-align: top;\n",
       "    }\n",
       "\n",
       "    .dataframe thead th {\n",
       "        text-align: right;\n",
       "    }\n",
       "</style>\n",
       "<table border=\"1\" class=\"dataframe\">\n",
       "  <thead>\n",
       "    <tr style=\"text-align: right;\">\n",
       "      <th></th>\n",
       "      <th>GV4_TEXT</th>\n",
       "      <th>BID</th>\n",
       "      <th>ASK</th>\n",
       "    </tr>\n",
       "  </thead>\n",
       "  <tbody>\n",
       "    <tr>\n",
       "      <th>0</th>\n",
       "      <td>ON</td>\n",
       "      <td>0.23</td>\n",
       "      <td>0.33</td>\n",
       "    </tr>\n",
       "    <tr>\n",
       "      <th>2</th>\n",
       "      <td>1M</td>\n",
       "      <td>0.8</td>\n",
       "      <td>1.0</td>\n",
       "    </tr>\n",
       "    <tr>\n",
       "      <th>3</th>\n",
       "      <td>3M</td>\n",
       "      <td>2.27</td>\n",
       "      <td>2.47</td>\n",
       "    </tr>\n",
       "    <tr>\n",
       "      <th>4</th>\n",
       "      <td>6M</td>\n",
       "      <td>4.55</td>\n",
       "      <td>4.95</td>\n",
       "    </tr>\n",
       "    <tr>\n",
       "      <th>5</th>\n",
       "      <td>1Y</td>\n",
       "      <td>7.0</td>\n",
       "      <td>8.0</td>\n",
       "    </tr>\n",
       "  </tbody>\n",
       "</table>\n",
       "</div>"
      ],
      "text/plain": [
       "  GV4_TEXT   BID   ASK\n",
       "0       ON  0.23  0.33\n",
       "2       1M   0.8   1.0\n",
       "3       3M  2.27  2.47\n",
       "4       6M  4.55  4.95\n",
       "5       1Y   7.0   8.0"
      ]
     },
     "execution_count": 49,
     "metadata": {},
     "output_type": "execute_result"
    }
   ],
   "source": [
    "df = _df.drop(columns='Instrument').dropna()\n",
    "df"
   ]
  },
  {
   "cell_type": "code",
   "execution_count": 50,
   "metadata": {},
   "outputs": [
    {
     "data": {
      "text/html": [
       "<div>\n",
       "<style scoped>\n",
       "    .dataframe tbody tr th:only-of-type {\n",
       "        vertical-align: middle;\n",
       "    }\n",
       "\n",
       "    .dataframe tbody tr th {\n",
       "        vertical-align: top;\n",
       "    }\n",
       "\n",
       "    .dataframe thead th {\n",
       "        text-align: right;\n",
       "    }\n",
       "</style>\n",
       "<table border=\"1\" class=\"dataframe\">\n",
       "  <thead>\n",
       "    <tr style=\"text-align: right;\">\n",
       "      <th></th>\n",
       "      <th>Tenor</th>\n",
       "      <th>BID</th>\n",
       "      <th>ASK</th>\n",
       "    </tr>\n",
       "  </thead>\n",
       "  <tbody>\n",
       "    <tr>\n",
       "      <th>0</th>\n",
       "      <td>ON</td>\n",
       "      <td>0.23</td>\n",
       "      <td>0.33</td>\n",
       "    </tr>\n",
       "    <tr>\n",
       "      <th>2</th>\n",
       "      <td>1M</td>\n",
       "      <td>0.8</td>\n",
       "      <td>1.0</td>\n",
       "    </tr>\n",
       "    <tr>\n",
       "      <th>3</th>\n",
       "      <td>3M</td>\n",
       "      <td>2.27</td>\n",
       "      <td>2.47</td>\n",
       "    </tr>\n",
       "    <tr>\n",
       "      <th>4</th>\n",
       "      <td>6M</td>\n",
       "      <td>4.55</td>\n",
       "      <td>4.95</td>\n",
       "    </tr>\n",
       "    <tr>\n",
       "      <th>5</th>\n",
       "      <td>1Y</td>\n",
       "      <td>7.0</td>\n",
       "      <td>8.0</td>\n",
       "    </tr>\n",
       "  </tbody>\n",
       "</table>\n",
       "</div>"
      ],
      "text/plain": [
       "  Tenor   BID   ASK\n",
       "0    ON  0.23  0.33\n",
       "2    1M   0.8   1.0\n",
       "3    3M  2.27  2.47\n",
       "4    6M  4.55  4.95\n",
       "5    1Y   7.0   8.0"
      ]
     },
     "execution_count": 50,
     "metadata": {},
     "output_type": "execute_result"
    }
   ],
   "source": [
    "if len(df.columns) == len(custom_column_names):\n",
    "    df.columns = custom_column_names\n",
    "df"
   ]
  },
  {
   "cell_type": "code",
   "execution_count": 51,
   "metadata": {},
   "outputs": [],
   "source": [
    "sheet = ipysheet.sheet(columns=len(df.columns.tolist()),\n",
    "                       rows=len(init_port),\n",
    "                       column_headers=df.columns.tolist(),\n",
    "                       row_headers=False)"
   ]
  },
  {
   "cell_type": "code",
   "execution_count": 52,
   "metadata": {},
   "outputs": [],
   "source": [
    "for n, i in enumerate(df.columns):\n",
    "    temp_col = ipysheet.column(n, df[i].tolist(), row_start=0, read_only=False)\n",
    "    ipycols.append(temp_col)"
   ]
  },
  {
   "cell_type": "code",
   "execution_count": 53,
   "metadata": {},
   "outputs": [
    {
     "data": {
      "application/vnd.jupyter.widget-view+json": {
       "model_id": "5c3601610751457c8e2495206079f97c",
       "version_major": 2,
       "version_minor": 0
      },
      "text/plain": [
       "Sheet(cells=(Cell(column_end=0, column_start=0, row_end=4, row_start=0, squeeze_row=False, type='text', value=…"
      ]
     },
     "metadata": {},
     "output_type": "display_data"
    }
   ],
   "source": [
    "sheet"
   ]
  },
  {
   "cell_type": "code",
   "execution_count": 54,
   "metadata": {},
   "outputs": [],
   "source": [
    "sheet_columns = dict(zip(df.columns.tolist(), ipycols))\n",
    "global_cols = sheet_columns"
   ]
  },
  {
   "cell_type": "code",
   "execution_count": 55,
   "metadata": {},
   "outputs": [
    {
     "data": {
      "text/plain": [
       "{'Tenor': Cell(column_end=0, column_start=0, row_end=4, row_start=0, squeeze_row=False, type='text', value=['ON', '1M', '3M', '6M', '1Y']),\n",
       " 'BID': Cell(column_end=1, column_start=1, row_end=4, row_start=0, squeeze_row=False, type='numeric', value=[0.23, 0.8, 2.27, 4.55, 7.0]),\n",
       " 'ASK': Cell(column_end=2, column_start=2, row_end=4, row_start=0, squeeze_row=False, type='numeric', value=[0.33, 1.0, 2.47, 4.95, 8.0])}"
      ]
     },
     "execution_count": 55,
     "metadata": {},
     "output_type": "execute_result"
    }
   ],
   "source": [
    "global_cols"
   ]
  },
  {
   "cell_type": "code",
   "execution_count": 56,
   "metadata": {},
   "outputs": [
    {
     "data": {
      "text/plain": [
       "0"
      ]
     },
     "execution_count": 56,
     "metadata": {},
     "output_type": "execute_result"
    }
   ],
   "source": [
    "r = init_port.index(instrument_name)\n",
    "r"
   ]
  },
  {
   "cell_type": "code",
   "execution_count": 72,
   "metadata": {},
   "outputs": [
    {
     "data": {
      "text/html": [
       "<div>\n",
       "<style scoped>\n",
       "    .dataframe tbody tr th:only-of-type {\n",
       "        vertical-align: middle;\n",
       "    }\n",
       "\n",
       "    .dataframe tbody tr th {\n",
       "        vertical-align: top;\n",
       "    }\n",
       "\n",
       "    .dataframe thead th {\n",
       "        text-align: right;\n",
       "    }\n",
       "</style>\n",
       "<table border=\"1\" class=\"dataframe\">\n",
       "  <thead>\n",
       "    <tr style=\"text-align: right;\">\n",
       "      <th></th>\n",
       "      <th>Instrument</th>\n",
       "      <th>BID</th>\n",
       "      <th>ASK</th>\n",
       "    </tr>\n",
       "  </thead>\n",
       "  <tbody>\n",
       "    <tr>\n",
       "      <th>0</th>\n",
       "      <td>SGDON=</td>\n",
       "      <td>0.23</td>\n",
       "      <td>0.33</td>\n",
       "    </tr>\n",
       "    <tr>\n",
       "      <th>1</th>\n",
       "      <td>SGD1W=</td>\n",
       "      <td>&lt;NA&gt;</td>\n",
       "      <td>&lt;NA&gt;</td>\n",
       "    </tr>\n",
       "    <tr>\n",
       "      <th>2</th>\n",
       "      <td>SGD1M=</td>\n",
       "      <td>0.8</td>\n",
       "      <td>1.0</td>\n",
       "    </tr>\n",
       "    <tr>\n",
       "      <th>3</th>\n",
       "      <td>SGD3M=</td>\n",
       "      <td>2.27</td>\n",
       "      <td>2.47</td>\n",
       "    </tr>\n",
       "    <tr>\n",
       "      <th>4</th>\n",
       "      <td>SGD6M=</td>\n",
       "      <td>4.55</td>\n",
       "      <td>4.95</td>\n",
       "    </tr>\n",
       "    <tr>\n",
       "      <th>5</th>\n",
       "      <td>SGD1Y=</td>\n",
       "      <td>7.0</td>\n",
       "      <td>8.0</td>\n",
       "    </tr>\n",
       "  </tbody>\n",
       "</table>\n",
       "</div>"
      ],
      "text/plain": [
       "  Instrument   BID   ASK\n",
       "0     SGDON=  0.23  0.33\n",
       "1     SGD1W=  <NA>  <NA>\n",
       "2     SGD1M=   0.8   1.0\n",
       "3     SGD3M=  2.27  2.47\n",
       "4     SGD6M=  4.55  4.95\n",
       "5     SGD1Y=   7.0   8.0"
      ]
     },
     "execution_count": 72,
     "metadata": {},
     "output_type": "execute_result"
    }
   ],
   "source": [
    "_df[['Instrument', 'BID', 'ASK']]"
   ]
  },
  {
   "cell_type": "code",
   "execution_count": 38,
   "metadata": {},
   "outputs": [
    {
     "ename": "AttributeError",
     "evalue": "'list' object has no attribute 'items'",
     "output_type": "error",
     "traceback": [
      "\u001b[1;31m---------------------------------------------------------------------------\u001b[0m",
      "\u001b[1;31mAttributeError\u001b[0m                            Traceback (most recent call last)",
      "\u001b[1;32m<ipython-input-38-dd13e09b5aea>\u001b[0m in \u001b[0;36m<module>\u001b[1;34m\u001b[0m\n\u001b[1;32m----> 1\u001b[1;33m \u001b[1;32mfor\u001b[0m \u001b[0mfld_name\u001b[0m\u001b[1;33m,\u001b[0m \u001b[0mfld_val\u001b[0m \u001b[1;32min\u001b[0m \u001b[0mfields\u001b[0m\u001b[1;33m.\u001b[0m\u001b[0mitems\u001b[0m\u001b[1;33m(\u001b[0m\u001b[1;33m)\u001b[0m\u001b[1;33m:\u001b[0m\u001b[1;33m\u001b[0m\u001b[1;33m\u001b[0m\u001b[0m\n\u001b[0m\u001b[0;32m      2\u001b[0m     \u001b[0mc\u001b[0m \u001b[1;33m=\u001b[0m \u001b[0mself\u001b[0m\u001b[1;33m.\u001b[0m\u001b[0mfields\u001b[0m\u001b[1;33m.\u001b[0m\u001b[0mindex\u001b[0m\u001b[1;33m(\u001b[0m\u001b[0mfld_name\u001b[0m\u001b[1;33m)\u001b[0m\u001b[1;33m\u001b[0m\u001b[1;33m\u001b[0m\u001b[0m\n\u001b[0;32m      3\u001b[0m     \u001b[0mprint\u001b[0m\u001b[1;33m(\u001b[0m\u001b[0mc\u001b[0m\u001b[1;33m)\u001b[0m\u001b[1;33m\u001b[0m\u001b[1;33m\u001b[0m\u001b[0m\n\u001b[0;32m      4\u001b[0m \u001b[1;31m#     temp_column = list(global_cols[list(global_cols.keys())[c]].value)\u001b[0m\u001b[1;33m\u001b[0m\u001b[1;33m\u001b[0m\u001b[1;33m\u001b[0m\u001b[0m\n\u001b[0;32m      5\u001b[0m \u001b[1;31m#     temp_column[r] = fld_val\u001b[0m\u001b[1;33m\u001b[0m\u001b[1;33m\u001b[0m\u001b[1;33m\u001b[0m\u001b[0m\n",
      "\u001b[1;31mAttributeError\u001b[0m: 'list' object has no attribute 'items'"
     ]
    }
   ],
   "source": [
    "for fld_name, fld_val in fields.items():\n",
    "    c = self.fields.index(fld_name)\n",
    "    print(c)\n",
    "#     temp_column = list(global_cols[list(global_cols.keys())[c]].value)\n",
    "#     temp_column[r] = fld_val\n",
    "#     self.sheet_columns[list(global_cols.keys())[c]].value = list(temp_column)"
   ]
  },
  {
   "cell_type": "code",
   "execution_count": null,
   "metadata": {},
   "outputs": [],
   "source": []
  },
  {
   "cell_type": "code",
   "execution_count": null,
   "metadata": {},
   "outputs": [],
   "source": [
    "class streaming_spreadsheet:\n",
    "    \n",
    "    def create_spreadsheet(self, currency, tenors, inst_type, fields, custom_column_names, add_change, change_time_frame):\n",
    "        ipycols = []\n",
    "        suffix = inst_dict[inst_type]\n",
    "        init_port = list(map(lambda t: '%s%s%s' % (currency[0], t, suffix), tenors))  # same as ' [f\"{currency[0]}{i}{suffix}\" for i in tenors] '\n",
    "        dict_port = dict(zip(list(init_port), range(len(init_port))))\n",
    "        df, err = ek.get_data(init_port, fields)\n",
    "        self.instruments = init_port\n",
    "        df = df.drop(columns='Instrument')\n",
    "        if add_change: \n",
    "            df['Change'] = 0\n",
    "            #date = datetime.now() - timedelta(days=7)\n",
    "            #to be completed with ek.get_timeseries()\n",
    "\n",
    "        if len(df.columns) == len(custom_column_names):\n",
    "            df.columns = custom_column_names\n",
    "        sheet = ipysheet.sheet(columns= len(df.columns.tolist()), rows = len(init_port), column_headers=df.columns.tolist(), row_headers=False)\n",
    "        for n, i in enumerate(df.columns):\n",
    "            temp_col = ipysheet.column(n, df[i].tolist(), row_start=0, read_only=False)\n",
    "            ipycols.append(temp_col)\n",
    "\n",
    "        self.sheet_columns = dict(zip(df.columns.tolist(), ipycols))\n",
    "\n",
    "        self.open_stream(init_port, fields)\n",
    "        self.streaming_prices.open()\n",
    "        return sheet\n",
    "\n",
    "    def update_columns(self, init_port, streaming_prices, instrument_name, fields):\n",
    "        global_cols = self.sheet_columns\n",
    "        r = init_port.index(instrument_name)\n",
    "        for fld_name, fld_val in fields.items():\n",
    "            c = self.fields.index(fld_name)\n",
    "            temp_column = list(global_cols[list(global_cols.keys())[c]].value)\n",
    "            temp_column[r] = fld_val\n",
    "            self.sheet_columns[list(global_cols.keys())[c]].value = list(temp_column)\n",
    "        return\n",
    "\n",
    "    def open_stream(self, init_port, fields):\n",
    "        self.streaming_prices = rdp.StreamingPrices(\n",
    "            universe = init_port, \n",
    "            fields = fields,\n",
    "            on_update = lambda streaming_prices, instrument_name, fields: \n",
    "                self.update_columns(init_port, streaming_prices, instrument_name, fields)\n",
    "        )\n",
    "        return\n",
    "\n",
    "    def close_stream(self):\n",
    "        self.streaming_prices.close()\n",
    "        return\n",
    "    \n",
    "    def __init__(self, currency, tenors, inst_type, fields, custom_column_names, add_change=False, change_time_frame=''):\n",
    "        self.sheet_columns = {}\n",
    "        self.instruments = []\n",
    "        self.streaming_price = 0\n",
    "        self.currency = currency\n",
    "        self.tenors = tenors\n",
    "        self.inst_type = inst_type\n",
    "        self.fields = fields\n",
    "        self.custom_column_names = custom_column_names\n",
    "        self.add_change = add_change\n",
    "        self.change_time_frame = change_time_frame\n",
    "        self.sheet = self.create_spreadsheet(currency, tenors, inst_type, fields, custom_column_names, add_change, change_time_frame)\n",
    "        "
   ]
  }
 ],
 "metadata": {
  "kernelspec": {
   "display_name": "Python 3",
   "language": "python",
   "name": "python3"
  },
  "language_info": {
   "codemirror_mode": {
    "name": "ipython",
    "version": 3
   },
   "file_extension": ".py",
   "mimetype": "text/x-python",
   "name": "python",
   "nbconvert_exporter": "python",
   "pygments_lexer": "ipython3",
   "version": "3.8.2"
  },
  "widgets": {
   "application/vnd.jupyter.widget-state+json": {
    "state": {
     "00e4c14a7684485e878f8988716869d2": {
      "model_module": "@jupyter-widgets/base",
      "model_module_version": "1.2.0",
      "model_name": "LayoutModel",
      "state": {
       "height": "auto",
       "width": "auto"
      }
     },
     "015d111179f448ceb70bd441712ede08": {
      "model_module": "@jupyter-widgets/base",
      "model_module_version": "1.2.0",
      "model_name": "LayoutModel",
      "state": {
       "height": "auto",
       "width": "auto"
      }
     },
     "016c5aac284d454e9e6f7b160ffba5c2": {
      "model_module": "@jupyter-widgets/base",
      "model_module_version": "1.2.0",
      "model_name": "LayoutModel",
      "state": {
       "height": "auto",
       "width": "auto"
      }
     },
     "01bec2a90bef4bd29bf1ac9e864f3caf": {
      "model_module": "ipysheet",
      "model_module_version": "~0.4.3",
      "model_name": "SheetModel",
      "state": {
       "column_headers": [
        "Tenor",
        "Bid",
        "Ask"
       ],
       "columns": 3,
       "layout": "IPY_MODEL_1741891b60e54f8f867cc2735bcbfd2f",
       "row_headers": false,
       "rows": 6
      }
     },
     "01d30cd40b8a483798920510361d07a1": {
      "model_module": "ipysheet",
      "model_module_version": "~0.4.3",
      "model_name": "SheetModel",
      "state": {
       "column_headers": [
        "Tenor",
        "Bid",
        "Ask"
       ],
       "columns": 3,
       "layout": "IPY_MODEL_e05057a01a70494c8ebea87401f7dfbf",
       "row_headers": false,
       "rows": 6
      }
     },
     "01d42930fd9546198cf770f498cca540": {
      "model_module": "@jupyter-widgets/base",
      "model_module_version": "1.2.0",
      "model_name": "LayoutModel",
      "state": {
       "height": "auto",
       "width": "auto"
      }
     },
     "01f8ccc6ddbb4f7fbd1115131bc7d755": {
      "model_module": "ipysheet",
      "model_module_version": "~0.4.3",
      "model_name": "SheetModel",
      "state": {
       "cells": [
        "IPY_MODEL_4fcbd5fd44db403e996929c60b56fd7e",
        "IPY_MODEL_8231a333e8984bc18c22cd829ff86cd4",
        "IPY_MODEL_bfc51c27efd34f7aa22d764e3bc581a3"
       ],
       "column_headers": [
        "Tenor",
        "Bid",
        "Ask"
       ],
       "columns": 3,
       "layout": "IPY_MODEL_e676f86c2e8049be9949ac2a9dcc7f1f",
       "row_headers": false,
       "rows": 6
      }
     },
     "03be599af62540aa8b16ebe0dd3eb6d4": {
      "model_module": "@jupyter-widgets/base",
      "model_module_version": "1.2.0",
      "model_name": "LayoutModel",
      "state": {
       "height": "auto",
       "width": "auto"
      }
     },
     "0420c994ceab462eb91bfe7a7c9b0c99": {
      "model_module": "@jupyter-widgets/base",
      "model_module_version": "1.2.0",
      "model_name": "LayoutModel",
      "state": {
       "height": "auto",
       "width": "auto"
      }
     },
     "0483ebe5e1a94a48a373af62e817cd06": {
      "model_module": "@jupyter-widgets/base",
      "model_module_version": "1.2.0",
      "model_name": "LayoutModel",
      "state": {
       "height": "auto",
       "width": "auto"
      }
     },
     "049588ecc00741bf806ca1f10a63fd67": {
      "model_module": "ipysheet",
      "model_module_version": "~0.4.3",
      "model_name": "CellRangeModel",
      "state": {
       "_view_module": null,
       "_view_module_version": "",
       "column_end": 0,
       "column_start": 0,
       "row_end": 5,
       "row_start": 0,
       "squeeze_row": false,
       "type": "text",
       "value": [
        "ON",
        "SW",
        "1M",
        "3M",
        "6M",
        "1Y"
       ]
      }
     },
     "0498247e89f8447b96a156ee5cf220e0": {
      "model_module": "ipysheet",
      "model_module_version": "~0.4.3",
      "model_name": "SheetModel",
      "state": {
       "column_headers": [
        "Tenor",
        "Bid",
        "Ask"
       ],
       "columns": 3,
       "layout": "IPY_MODEL_89743fbca5f742c2a4507ff90ea1e2d9",
       "row_headers": false,
       "rows": 6
      }
     },
     "051f5722396f4475b9d45a4fabdfb7d0": {
      "model_module": "ipysheet",
      "model_module_version": "~0.4.3",
      "model_name": "CellRangeModel",
      "state": {
       "_view_module": null,
       "_view_module_version": "",
       "column_end": 0,
       "column_start": 0,
       "row_end": 5,
       "row_start": 0,
       "squeeze_row": false,
       "type": "text",
       "value": [
        "ON",
        "SW",
        "1M",
        "3M",
        "6M",
        "1Y"
       ]
      }
     },
     "06c8854eb1704fe793dcf46a751b1a2e": {
      "model_module": "@jupyter-widgets/base",
      "model_module_version": "1.2.0",
      "model_name": "LayoutModel",
      "state": {
       "height": "auto",
       "width": "auto"
      }
     },
     "07833d4f17574c289ffb466ea3420e49": {
      "model_module": "ipysheet",
      "model_module_version": "~0.4.3",
      "model_name": "CellRangeModel",
      "state": {
       "_view_module": null,
       "_view_module_version": "",
       "column_end": 0,
       "column_start": 0,
       "row_end": 5,
       "row_start": 0,
       "squeeze_row": false,
       "type": "text",
       "value": [
        "ON",
        "SW",
        "1M",
        "3M",
        "6M",
        "1Y"
       ]
      }
     },
     "07abb8db1dd3499c8b98d8b3dcc8dcd4": {
      "model_module": "ipysheet",
      "model_module_version": "~0.4.3",
      "model_name": "CellRangeModel",
      "state": {
       "_view_module": null,
       "_view_module_version": "",
       "column_end": 0,
       "column_start": 0,
       "row_end": 5,
       "row_start": 0,
       "squeeze_row": false,
       "type": "text",
       "value": [
        "ON",
        "SW",
        "1M",
        "3M",
        "6M",
        "1Y"
       ]
      }
     },
     "081b793840284a3fb5c13f65e05f606f": {
      "model_module": "ipysheet",
      "model_module_version": "~0.4.3",
      "model_name": "SheetModel",
      "state": {
       "column_headers": [
        "Tenor",
        "Bid",
        "Ask"
       ],
       "columns": 3,
       "layout": "IPY_MODEL_00e4c14a7684485e878f8988716869d2",
       "row_headers": false,
       "rows": 6
      }
     },
     "082b182b7f3a43b6b08a93e2505142e7": {
      "model_module": "ipysheet",
      "model_module_version": "~0.4.3",
      "model_name": "CellRangeModel",
      "state": {
       "_view_module": null,
       "_view_module_version": "",
       "column_end": 0,
       "column_start": 0,
       "row_end": 5,
       "row_start": 0,
       "squeeze_row": false,
       "type": "text",
       "value": [
        "ON",
        "SW",
        "1M",
        "3M",
        "6M",
        "1Y"
       ]
      }
     },
     "089f0df7353d470b81242f4e92384f1f": {
      "model_module": "ipysheet",
      "model_module_version": "~0.4.3",
      "model_name": "SheetModel",
      "state": {
       "cells": [
        "IPY_MODEL_637f1fad7aab4adf9b6446255baf74ab",
        "IPY_MODEL_d1b0e0d04bf744e6a0b797822ae0c47d",
        "IPY_MODEL_1afc473618ce423ebe8db0846eac99ae"
       ],
       "column_headers": [
        "Tenor",
        "Bid",
        "Ask"
       ],
       "columns": 3,
       "layout": "IPY_MODEL_016c5aac284d454e9e6f7b160ffba5c2",
       "row_headers": false,
       "rows": 6
      }
     },
     "09457184cf4145929521d91d5a3b6c98": {
      "model_module": "@jupyter-widgets/base",
      "model_module_version": "1.2.0",
      "model_name": "LayoutModel",
      "state": {
       "height": "auto",
       "width": "auto"
      }
     },
     "09eced895601412ab64dc391a4e1b83d": {
      "model_module": "@jupyter-widgets/base",
      "model_module_version": "1.2.0",
      "model_name": "LayoutModel",
      "state": {
       "height": "auto",
       "width": "auto"
      }
     },
     "0a487c1f4f75409dac3a6523f1c1a621": {
      "model_module": "ipysheet",
      "model_module_version": "~0.4.3",
      "model_name": "SheetModel",
      "state": {
       "column_headers": [
        "Tenor",
        "Bid",
        "Ask"
       ],
       "columns": 3,
       "layout": "IPY_MODEL_01d42930fd9546198cf770f498cca540",
       "row_headers": false,
       "rows": 6
      }
     },
     "0bff436500bb47fb9623e7b57675c6e1": {
      "model_module": "ipysheet",
      "model_module_version": "~0.4.3",
      "model_name": "CellRangeModel",
      "state": {
       "_view_module": null,
       "_view_module_version": "",
       "column_end": 0,
       "column_start": 0,
       "row_end": 5,
       "row_start": 0,
       "squeeze_row": false,
       "type": "text",
       "value": [
        "ON",
        "SW",
        "1M",
        "3M",
        "6M",
        "1Y"
       ]
      }
     },
     "0cf8f9fe555c496d8e089f674cd83ec8": {
      "model_module": "ipysheet",
      "model_module_version": "~0.4.3",
      "model_name": "SheetModel",
      "state": {
       "column_headers": [
        "Tenor",
        "Bid",
        "Ask"
       ],
       "columns": 3,
       "layout": "IPY_MODEL_6416efa7d0284adb9eab2c25b319208b",
       "row_headers": false,
       "rows": 6
      }
     },
     "0daef48ee9a44e6fb875cadc557eecaf": {
      "model_module": "@jupyter-widgets/base",
      "model_module_version": "1.2.0",
      "model_name": "LayoutModel",
      "state": {
       "height": "auto",
       "width": "auto"
      }
     },
     "0e879a197ba64c5abd6e5e59897e8c26": {
      "model_module": "ipysheet",
      "model_module_version": "~0.4.3",
      "model_name": "CellRangeModel",
      "state": {
       "_view_module": null,
       "_view_module_version": "",
       "row_end": 5,
       "row_start": 0,
       "squeeze_row": false,
       "type": "numeric",
       "value": [
        123,
        872.51,
        4069,
        11720,
        24131,
        48230
       ]
      }
     },
     "0f23099c0347496c9c02b7590aa3fb95": {
      "model_module": "ipysheet",
      "model_module_version": "~0.4.3",
      "model_name": "SheetModel",
      "state": {
       "column_headers": [
        "Tenor",
        "Bid",
        "Ask"
       ],
       "columns": 3,
       "layout": "IPY_MODEL_c046b36496d04a39882a2f3e26ca61ab",
       "row_headers": false,
       "rows": 6
      }
     },
     "109dfe76ea004be58fd509b862ac3b70": {
      "model_module": "@jupyter-widgets/base",
      "model_module_version": "1.2.0",
      "model_name": "LayoutModel",
      "state": {
       "height": "auto",
       "width": "auto"
      }
     },
     "11e7a7fc74f64b01903db5dc1e46dc72": {
      "model_module": "ipysheet",
      "model_module_version": "~0.4.3",
      "model_name": "SheetModel",
      "state": {
       "column_headers": [
        "Tenor",
        "Bid",
        "Ask"
       ],
       "columns": 3,
       "layout": "IPY_MODEL_fe191b7374d94785875daff43ed841c8",
       "row_headers": false,
       "rows": 6
      }
     },
     "1208d9974fef4212acb17eedfb14862d": {
      "model_module": "ipysheet",
      "model_module_version": "~0.4.3",
      "model_name": "SheetModel",
      "state": {
       "cells": [
        "IPY_MODEL_1b530dc998be4979bbb100c97137d9eb",
        "IPY_MODEL_4a0ff7652c3a4bedbf3c1c9c8ec68992",
        "IPY_MODEL_3f9b06f8c2a942d591aeb1fd05135c62"
       ],
       "column_headers": [
        "Tenor",
        "Bid",
        "Ask"
       ],
       "columns": 3,
       "layout": "IPY_MODEL_13c0416fee1946b6be8fe8d20ae7cd00",
       "row_headers": false,
       "rows": 6
      }
     },
     "1278f608ed734d6797f5657164e744a9": {
      "model_module": "ipysheet",
      "model_module_version": "~0.4.3",
      "model_name": "CellRangeModel",
      "state": {
       "_view_module": null,
       "_view_module_version": "",
       "row_end": 5,
       "row_start": 0,
       "squeeze_row": false,
       "type": "numeric",
       "value": [
        -0.015,
        -0.01,
        0.6,
        1.97,
        6.64,
        -0.52
       ]
      }
     },
     "13c0416fee1946b6be8fe8d20ae7cd00": {
      "model_module": "@jupyter-widgets/base",
      "model_module_version": "1.2.0",
      "model_name": "LayoutModel",
      "state": {
       "height": "auto",
       "width": "auto"
      }
     },
     "141589a4a03a428d9bc9226ddaedeb29": {
      "model_module": "@jupyter-widgets/base",
      "model_module_version": "1.2.0",
      "model_name": "LayoutModel",
      "state": {
       "height": "auto",
       "width": "auto"
      }
     },
     "14ec94083b344bae803a1c98bc30f7da": {
      "model_module": "ipysheet",
      "model_module_version": "~0.4.3",
      "model_name": "SheetModel",
      "state": {
       "cells": [
        "IPY_MODEL_726abb1a6906483c8c108a71b37badd9",
        "IPY_MODEL_f2ee01ba3e6e44c1baa237ed443fa7c4",
        "IPY_MODEL_78dcb2d14da749c1809a806c75141a0f"
       ],
       "column_headers": [
        "Tenor",
        "Bid",
        "Ask"
       ],
       "columns": 3,
       "layout": "IPY_MODEL_a6ebbef870bb4985b9528aa5dedf7a70",
       "row_headers": false,
       "rows": 6
      }
     },
     "14fec696821e47cdbd074dbe3de2a6d7": {
      "model_module": "ipysheet",
      "model_module_version": "~0.4.3",
      "model_name": "SheetModel",
      "state": {
       "column_headers": [
        "Tenor",
        "Bid",
        "Ask"
       ],
       "columns": 3,
       "layout": "IPY_MODEL_41dd80a303c34993a25624b3a71570b2",
       "row_headers": false,
       "rows": 6
      }
     },
     "15f5f70b1f2b4d89ac28a5461b0f4ddc": {
      "model_module": "ipysheet",
      "model_module_version": "~0.4.3",
      "model_name": "SheetModel",
      "state": {
       "cells": [
        "IPY_MODEL_3e1e790bd3d94513a410f70bb70de0e9",
        "IPY_MODEL_4830db0f02914e31826e0a57ac0f937a",
        "IPY_MODEL_d8a50fd4105644cbb90b81678fbae77c"
       ],
       "column_headers": [
        "Tenor",
        "Bid",
        "Ask"
       ],
       "columns": 3,
       "layout": "IPY_MODEL_0483ebe5e1a94a48a373af62e817cd06",
       "row_headers": false,
       "rows": 6
      }
     },
     "16199e9790ef403aa96c847ada484382": {
      "model_module": "@jupyter-widgets/base",
      "model_module_version": "1.2.0",
      "model_name": "LayoutModel",
      "state": {
       "height": "auto",
       "width": "auto"
      }
     },
     "16e3c478a64d4e8d8dd433e9ddd50f26": {
      "model_module": "ipysheet",
      "model_module_version": "~0.4.3",
      "model_name": "SheetModel",
      "state": {
       "cells": [
        "IPY_MODEL_07833d4f17574c289ffb466ea3420e49",
        "IPY_MODEL_ef7e15601ff146f184a06cd88072a387",
        "IPY_MODEL_546bda249bcb4ee2886f27a5151b5cb0"
       ],
       "column_headers": [
        "Tenor",
        "Bid",
        "Ask"
       ],
       "columns": 3,
       "layout": "IPY_MODEL_ffc270de8faa451d87438a7f53c2922d",
       "row_headers": false,
       "rows": 6
      }
     },
     "1741891b60e54f8f867cc2735bcbfd2f": {
      "model_module": "@jupyter-widgets/base",
      "model_module_version": "1.2.0",
      "model_name": "LayoutModel",
      "state": {
       "height": "auto",
       "width": "auto"
      }
     },
     "1834ff1c85494551b00b8a37247cc802": {
      "model_module": "ipysheet",
      "model_module_version": "~0.4.3",
      "model_name": "CellRangeModel",
      "state": {
       "_view_module": null,
       "_view_module_version": "",
       "column_end": 0,
       "column_start": 0,
       "row_end": 5,
       "row_start": 0,
       "squeeze_row": false,
       "type": "text",
       "value": [
        "ON",
        "SW",
        "1M",
        "3M",
        "6M",
        "1Y"
       ]
      }
     },
     "1a2c8be5d7094aa583936f2247209d69": {
      "model_module": "ipysheet",
      "model_module_version": "~0.4.3",
      "model_name": "SheetModel",
      "state": {
       "column_headers": [
        "Tenor",
        "Bid",
        "Ask"
       ],
       "columns": 3,
       "layout": "IPY_MODEL_bda64d025da7401d967a22a7d00c092d",
       "row_headers": false,
       "rows": 6
      }
     },
     "1a3371e773fc48dbaf403820a3b47853": {
      "model_module": "ipysheet",
      "model_module_version": "~0.4.3",
      "model_name": "CellRangeModel",
      "state": {
       "_view_module": null,
       "_view_module_version": "",
       "column_end": 0,
       "column_start": 0,
       "row_end": 5,
       "row_start": 0,
       "squeeze_row": false,
       "type": "text",
       "value": [
        "ON",
        "SW",
        "1M",
        "3M",
        "6M",
        "1Y"
       ]
      }
     },
     "1a848859707a452c9f61ccfce6246b4d": {
      "model_module": "ipysheet",
      "model_module_version": "~0.4.3",
      "model_name": "SheetModel",
      "state": {
       "cells": [
        "IPY_MODEL_826e310d796142b38bbc7f9eb685ddfb",
        "IPY_MODEL_78548e06cd0e4bf68cf91251588a9494",
        "IPY_MODEL_e8b9f834f0a84541937773ad0ecc97a6"
       ],
       "column_headers": [
        "Tenor",
        "Bid",
        "Ask"
       ],
       "columns": 3,
       "layout": "IPY_MODEL_ec1111e1044e44979994910c81341991",
       "row_headers": false,
       "rows": 6
      }
     },
     "1afc473618ce423ebe8db0846eac99ae": {
      "model_module": "ipysheet",
      "model_module_version": "~0.4.3",
      "model_name": "CellRangeModel",
      "state": {
       "_view_module": null,
       "_view_module_version": "",
       "column_end": 2,
       "column_start": 2,
       "row_end": 5,
       "row_start": 0,
       "squeeze_row": false,
       "type": "numeric",
       "value": [
        0.15,
        -0.51,
        -2.32,
        -7.98,
        -21.73,
        -43.59
       ]
      }
     },
     "1b530dc998be4979bbb100c97137d9eb": {
      "model_module": "ipysheet",
      "model_module_version": "~0.4.3",
      "model_name": "CellRangeModel",
      "state": {
       "_view_module": null,
       "_view_module_version": "",
       "column_end": 0,
       "column_start": 0,
       "row_end": 5,
       "row_start": 0,
       "squeeze_row": false,
       "type": "text",
       "value": [
        "ON",
        "SW",
        "1M",
        "3M",
        "6M",
        "1Y"
       ]
      }
     },
     "1ba456db80ce44efb2eb8da068f6c2ac": {
      "model_module": "ipysheet",
      "model_module_version": "~0.4.3",
      "model_name": "SheetModel",
      "state": {
       "column_headers": [
        "Tenor",
        "Bid",
        "Ask"
       ],
       "columns": 3,
       "layout": "IPY_MODEL_4ed42c2eda52466c90dc228fff0aa29e",
       "row_headers": false,
       "rows": 6
      }
     },
     "1cb2e50abacc4300b6e742191020f03e": {
      "model_module": "@jupyter-widgets/base",
      "model_module_version": "1.2.0",
      "model_name": "LayoutModel",
      "state": {
       "height": "auto",
       "width": "auto"
      }
     },
     "1cb590ddf5b64b53aaa2f09dff8a6926": {
      "model_module": "@jupyter-widgets/base",
      "model_module_version": "1.2.0",
      "model_name": "LayoutModel",
      "state": {
       "height": "auto",
       "width": "auto"
      }
     },
     "1d2f7ef6c33146f68fae1c525e6c6209": {
      "model_module": "@jupyter-widgets/base",
      "model_module_version": "1.2.0",
      "model_name": "LayoutModel",
      "state": {
       "height": "auto",
       "width": "auto"
      }
     },
     "1d88fde96dc749edac9d145492172e2c": {
      "model_module": "@jupyter-widgets/base",
      "model_module_version": "1.2.0",
      "model_name": "LayoutModel",
      "state": {
       "height": "auto",
       "width": "auto"
      }
     },
     "1db28306a683401fa74d20d23f0f5e5b": {
      "model_module": "ipysheet",
      "model_module_version": "~0.4.3",
      "model_name": "SheetModel",
      "state": {
       "column_headers": [
        "Tenor",
        "Bid",
        "Ask"
       ],
       "columns": 3,
       "layout": "IPY_MODEL_09457184cf4145929521d91d5a3b6c98",
       "row_headers": false,
       "rows": 6
      }
     },
     "1e34690cc2d64a94976df5621625f76c": {
      "model_module": "ipysheet",
      "model_module_version": "~0.4.3",
      "model_name": "SheetModel",
      "state": {
       "column_headers": [
        "Tenor",
        "Bid",
        "Ask"
       ],
       "columns": 3,
       "layout": "IPY_MODEL_43c06ee5911840f9ad625073c3ec6901",
       "row_headers": false,
       "rows": 6
      }
     },
     "1ee69919576443afb833569fa52ca348": {
      "model_module": "ipysheet",
      "model_module_version": "~0.4.3",
      "model_name": "SheetModel",
      "state": {
       "column_headers": [
        "Tenor",
        "Bid",
        "Ask"
       ],
       "columns": 3,
       "layout": "IPY_MODEL_109dfe76ea004be58fd509b862ac3b70",
       "row_headers": false,
       "rows": 6
      }
     },
     "1f680a917bbd449d971f04836e588b1d": {
      "model_module": "ipysheet",
      "model_module_version": "~0.4.3",
      "model_name": "CellRangeModel",
      "state": {
       "_view_module": null,
       "_view_module_version": "",
       "column_end": 2,
       "column_start": 2,
       "row_end": 5,
       "row_start": 0,
       "squeeze_row": false,
       "type": "numeric",
       "value": [
        0.15,
        -0.51,
        -2.32,
        -7.98,
        -21.73,
        -43.59
       ]
      }
     },
     "200c4d19a3ea49408fbe6cc6eb0e3b0a": {
      "model_module": "@jupyter-widgets/base",
      "model_module_version": "1.2.0",
      "model_name": "LayoutModel",
      "state": {
       "height": "auto",
       "width": "auto"
      }
     },
     "20108423a74f415797dd80f564ef1d9c": {
      "model_module": "ipysheet",
      "model_module_version": "~0.4.3",
      "model_name": "CellRangeModel",
      "state": {
       "_view_module": null,
       "_view_module_version": "",
       "column_end": 2,
       "column_start": 2,
       "row_end": 5,
       "row_start": 0,
       "squeeze_row": false,
       "type": "numeric",
       "value": [
        0.07,
        0.23,
        0.87,
        2.08,
        4,
        6.99
       ]
      }
     },
     "20f5ade3823b47c788c4105548bc5f44": {
      "model_module": "ipysheet",
      "model_module_version": "~0.4.3",
      "model_name": "CellRangeModel",
      "state": {
       "_view_module": null,
       "_view_module_version": "",
       "row_end": 5,
       "row_start": 0,
       "squeeze_row": false,
       "type": "numeric",
       "value": [
        0.19,
        1.49,
        6.76,
        21.44,
        47.45,
        93.91
       ]
      }
     },
     "22a744f6b8854fc3932630a8d23720b7": {
      "model_module": "@jupyter-widgets/base",
      "model_module_version": "1.2.0",
      "model_name": "LayoutModel",
      "state": {
       "height": "auto",
       "width": "auto"
      }
     },
     "235bcc12828249eab11bcac913ff7271": {
      "model_module": "ipysheet",
      "model_module_version": "~0.4.3",
      "model_name": "SheetModel",
      "state": {
       "cells": [
        "IPY_MODEL_049588ecc00741bf806ca1f10a63fd67",
        "IPY_MODEL_1278f608ed734d6797f5657164e744a9",
        "IPY_MODEL_4203df29ca174a5c9823c3764af4fe9e"
       ],
       "column_headers": [
        "Tenor",
        "Bid",
        "Ask"
       ],
       "columns": 3,
       "layout": "IPY_MODEL_b63bbb5f20c748ec833512346c0a50fd",
       "row_headers": false,
       "rows": 6
      }
     },
     "259da08e1717417a9ed41a852d247959": {
      "model_module": "ipysheet",
      "model_module_version": "~0.4.3",
      "model_name": "CellRangeModel",
      "state": {
       "_view_module": null,
       "_view_module_version": "",
       "column_end": 2,
       "column_start": 2,
       "row_end": 5,
       "row_start": 0,
       "squeeze_row": false,
       "type": "numeric",
       "value": [
        0.145,
        0.22,
        1.03,
        3.22,
        7.44,
        11.29
       ]
      }
     },
     "2672af482a8047ccaaa0f8219ae9189c": {
      "model_module": "ipysheet",
      "model_module_version": "~0.4.3",
      "model_name": "CellRangeModel",
      "state": {
       "_view_module": null,
       "_view_module_version": "",
       "column_end": 0,
       "column_start": 0,
       "row_end": 5,
       "row_start": 0,
       "squeeze_row": false,
       "type": "text",
       "value": [
        "ON",
        "SW",
        "1M",
        "3M",
        "6M",
        "1Y"
       ]
      }
     },
     "2821b306a2354d0ebab297948f61cdbd": {
      "model_module": "@jupyter-widgets/base",
      "model_module_version": "1.2.0",
      "model_name": "LayoutModel",
      "state": {
       "height": "auto",
       "width": "auto"
      }
     },
     "283dae5b94e9405db6c801711e849cd4": {
      "model_module": "ipysheet",
      "model_module_version": "~0.4.3",
      "model_name": "SheetModel",
      "state": {
       "column_headers": [
        "Tenor",
        "Bid",
        "Ask"
       ],
       "columns": 3,
       "layout": "IPY_MODEL_5eec185eb0d44c24818fbb5f013cc1e3",
       "row_headers": false,
       "rows": 6
      }
     },
     "29d1c607193144749724b392bd8d1e61": {
      "model_module": "ipysheet",
      "model_module_version": "~0.4.3",
      "model_name": "SheetModel",
      "state": {
       "column_headers": [
        "Tenor",
        "Bid",
        "Ask"
       ],
       "columns": 3,
       "layout": "IPY_MODEL_0daef48ee9a44e6fb875cadc557eecaf",
       "row_headers": false,
       "rows": 6
      }
     },
     "29d783b4e35843ffb9e4f8dbd61eff0c": {
      "model_module": "ipysheet",
      "model_module_version": "~0.4.3",
      "model_name": "SheetModel",
      "state": {
       "column_headers": [
        "Tenor",
        "Bid",
        "Ask"
       ],
       "columns": 3,
       "layout": "IPY_MODEL_fa54beb3a909414ebdb9c1a05afb1618",
       "row_headers": false,
       "rows": 6
      }
     },
     "2bb5b332c8364465a669a34e9e9d5980": {
      "model_module": "ipysheet",
      "model_module_version": "~0.4.3",
      "model_name": "SheetModel",
      "state": {
       "column_headers": [
        "Tenor",
        "Bid",
        "Ask"
       ],
       "columns": 3,
       "layout": "IPY_MODEL_0420c994ceab462eb91bfe7a7c9b0c99",
       "row_headers": false,
       "rows": 6
      }
     },
     "2d1e8ec0e04f439bbd05310b0b5a16e8": {
      "model_module": "ipysheet",
      "model_module_version": "~0.4.3",
      "model_name": "SheetModel",
      "state": {
       "column_headers": [
        "Tenor",
        "Bid",
        "Ask"
       ],
       "columns": 3,
       "layout": "IPY_MODEL_e39c4473b104464d8e856c5c87c9f135",
       "row_headers": false,
       "rows": 6
      }
     },
     "2fee5b68e65d41839d132e8a0e2843a0": {
      "model_module": "ipysheet",
      "model_module_version": "~0.4.3",
      "model_name": "SheetModel",
      "state": {
       "column_headers": [
        "Tenor",
        "Bid",
        "Ask"
       ],
       "columns": 3,
       "layout": "IPY_MODEL_a7db0dc6ba0d4e09a6ab006cda7eb23c",
       "row_headers": false,
       "rows": 6
      }
     },
     "30cd2bb900eb47259144360cfcd6a218": {
      "model_module": "ipysheet",
      "model_module_version": "~0.4.3",
      "model_name": "SheetModel",
      "state": {
       "column_headers": [
        "Tenor",
        "Bid",
        "Ask"
       ],
       "columns": 3,
       "layout": "IPY_MODEL_f47a1555cea548e280dcbede2c90011b",
       "row_headers": false,
       "rows": 6
      }
     },
     "3173a055faea41c7b3f4af40f078b2db": {
      "model_module": "ipysheet",
      "model_module_version": "~0.4.3",
      "model_name": "CellRangeModel",
      "state": {
       "_view_module": null,
       "_view_module_version": "",
       "column_end": 0,
       "column_start": 0,
       "row_end": 5,
       "row_start": 0,
       "squeeze_row": false,
       "type": "text",
       "value": [
        "ON",
        "SW",
        "1M",
        "3M",
        "6M",
        "1Y"
       ]
      }
     },
     "317f6bceb74e41ce90f48d015fe6efb0": {
      "model_module": "@jupyter-widgets/base",
      "model_module_version": "1.2.0",
      "model_name": "LayoutModel",
      "state": {
       "height": "auto",
       "width": "auto"
      }
     },
     "31a8f6e5a50549ad9e3ea769afe77664": {
      "model_module": "ipysheet",
      "model_module_version": "~0.4.3",
      "model_name": "SheetModel",
      "state": {
       "column_headers": [
        "Tenor",
        "Bid",
        "Ask"
       ],
       "columns": 3,
       "layout": "IPY_MODEL_53ea476f7a9c45e0995853c6c2cc5ae1",
       "row_headers": false,
       "rows": 6
      }
     },
     "338b4dea45304726ac423c9539ec0d8a": {
      "model_module": "@jupyter-widgets/base",
      "model_module_version": "1.2.0",
      "model_name": "LayoutModel",
      "state": {
       "height": "auto",
       "width": "auto"
      }
     },
     "33ca480077ac4925a9cac49d5265533e": {
      "model_module": "ipysheet",
      "model_module_version": "~0.4.3",
      "model_name": "SheetModel",
      "state": {
       "cells": [
        "IPY_MODEL_c7d9f02118464dacba91f868c010fb1f",
        "IPY_MODEL_3e4b1f399e4b490881851f0f7178f935",
        "IPY_MODEL_a370ce4a1c5c4a059eabf1892409efd2"
       ],
       "column_headers": [
        "Tenor",
        "Bid",
        "Ask"
       ],
       "columns": 3,
       "layout": "IPY_MODEL_09eced895601412ab64dc391a4e1b83d",
       "row_headers": false,
       "rows": 6
      }
     },
     "367d1e54de67487180b86e56aeaf687b": {
      "model_module": "@jupyter-widgets/base",
      "model_module_version": "1.2.0",
      "model_name": "LayoutModel",
      "state": {
       "height": "auto",
       "width": "auto"
      }
     },
     "379454f9ae4b4b17ad07be1ea9647356": {
      "model_module": "ipysheet",
      "model_module_version": "~0.4.3",
      "model_name": "CellRangeModel",
      "state": {
       "_view_module": null,
       "_view_module_version": "",
       "column_end": 2,
       "column_start": 2,
       "row_end": 5,
       "row_start": 0,
       "squeeze_row": false,
       "type": "numeric",
       "value": [
        0.042,
        0.31,
        0.86,
        2.32,
        7.51,
        2.49
       ]
      }
     },
     "39bf3749d9764dc0b52abb8075fc3161": {
      "model_module": "ipysheet",
      "model_module_version": "~0.4.3",
      "model_name": "SheetModel",
      "state": {
       "cells": [
        "IPY_MODEL_8d095d37702a44d3abee863e10e2c336",
        "IPY_MODEL_7382b2f809d941ea871f1ef7e76895e1",
        "IPY_MODEL_95c528df45644e03b21b560fc0a4f8ab"
       ],
       "column_headers": [
        "Tenor",
        "Bid",
        "Ask"
       ],
       "columns": 3,
       "layout": "IPY_MODEL_db7f712dc0b3419ca6d2a82986c9d23a",
       "row_headers": false,
       "rows": 6
      }
     },
     "3af14513872e488a99637bebf60b344e": {
      "model_module": "ipysheet",
      "model_module_version": "~0.4.3",
      "model_name": "CellRangeModel",
      "state": {
       "_view_module": null,
       "_view_module_version": "",
       "column_end": 2,
       "column_start": 2,
       "row_end": 5,
       "row_start": 0,
       "squeeze_row": false,
       "type": "numeric",
       "value": [
        0.07,
        0.23,
        0.84,
        2.09,
        3.82,
        6.99
       ]
      }
     },
     "3b2cf1653d5e4103b4c86dce48ea9c28": {
      "model_module": "@jupyter-widgets/base",
      "model_module_version": "1.2.0",
      "model_name": "LayoutModel",
      "state": {
       "height": "auto",
       "width": "auto"
      }
     },
     "3d8a2b6bfaf643e08723f27bda1f2131": {
      "model_module": "@jupyter-widgets/base",
      "model_module_version": "1.2.0",
      "model_name": "LayoutModel",
      "state": {
       "height": "auto",
       "width": "auto"
      }
     },
     "3e1e790bd3d94513a410f70bb70de0e9": {
      "model_module": "ipysheet",
      "model_module_version": "~0.4.3",
      "model_name": "CellRangeModel",
      "state": {
       "_view_module": null,
       "_view_module_version": "",
       "column_end": 0,
       "column_start": 0,
       "row_end": 5,
       "row_start": 0,
       "squeeze_row": false,
       "type": "text",
       "value": [
        "ON",
        "SW",
        "1M",
        "3M",
        "6M",
        "1Y"
       ]
      }
     },
     "3e4b1f399e4b490881851f0f7178f935": {
      "model_module": "ipysheet",
      "model_module_version": "~0.4.3",
      "model_name": "CellRangeModel",
      "state": {
       "_view_module": null,
       "_view_module_version": "",
       "row_end": 5,
       "row_start": 0,
       "squeeze_row": false,
       "type": "numeric",
       "value": [
        0.19,
        1.49,
        6.76,
        21.44,
        47.45,
        93.91
       ]
      }
     },
     "3e83c7b3bb9f4afc9e17e7d5f7cdcd55": {
      "model_module": "ipysheet",
      "model_module_version": "~0.4.3",
      "model_name": "SheetModel",
      "state": {
       "cells": [
        "IPY_MODEL_da0f86f6d6bc48d09b1a045d81a8c74b",
        "IPY_MODEL_7b590ea577c04ee09eb93cb7c8ae1bf5",
        "IPY_MODEL_8cb3195a398f46db972ab41c172de7dd"
       ],
       "column_headers": [
        "Tenor",
        "Bid",
        "Ask"
       ],
       "columns": 3,
       "layout": "IPY_MODEL_1d88fde96dc749edac9d145492172e2c",
       "row_headers": false,
       "rows": 6
      }
     },
     "3f9b06f8c2a942d591aeb1fd05135c62": {
      "model_module": "ipysheet",
      "model_module_version": "~0.4.3",
      "model_name": "CellRangeModel",
      "state": {
       "_view_module": null,
       "_view_module_version": "",
       "column_end": 2,
       "column_start": 2,
       "row_end": 5,
       "row_start": 0,
       "squeeze_row": false,
       "type": "numeric",
       "value": [
        0.145,
        0.22,
        1.03,
        3.22,
        7.44,
        11.29
       ]
      }
     },
     "408c2d16c88d42d397594d0d4525fb25": {
      "model_module": "ipysheet",
      "model_module_version": "~0.4.3",
      "model_name": "CellRangeModel",
      "state": {
       "_view_module": null,
       "_view_module_version": "",
       "row_end": 5,
       "row_start": 0,
       "squeeze_row": false,
       "type": "numeric",
       "value": [
        -0.015,
        -0.01,
        0.6,
        1.97,
        6.64,
        -0.52
       ]
      }
     },
     "41dd80a303c34993a25624b3a71570b2": {
      "model_module": "@jupyter-widgets/base",
      "model_module_version": "1.2.0",
      "model_name": "LayoutModel",
      "state": {
       "height": "auto",
       "width": "auto"
      }
     },
     "41f669ef963c4a2d8c881c08199e4d8c": {
      "model_module": "ipysheet",
      "model_module_version": "~0.4.3",
      "model_name": "SheetModel",
      "state": {
       "column_headers": [
        "Tenor",
        "Bid",
        "Ask"
       ],
       "columns": 3,
       "layout": "IPY_MODEL_8bd071891bdb4c3cbeef36750bac3f0a",
       "row_headers": false,
       "rows": 6
      }
     },
     "4203df29ca174a5c9823c3764af4fe9e": {
      "model_module": "ipysheet",
      "model_module_version": "~0.4.3",
      "model_name": "CellRangeModel",
      "state": {
       "_view_module": null,
       "_view_module_version": "",
       "column_end": 2,
       "column_start": 2,
       "row_end": 5,
       "row_start": 0,
       "squeeze_row": false,
       "type": "numeric",
       "value": [
        0.042,
        0.31,
        0.86,
        2.32,
        7.51,
        2.49
       ]
      }
     },
     "428ef97fdc464f2fad8ef29170656d45": {
      "model_module": "ipysheet",
      "model_module_version": "~0.4.3",
      "model_name": "SheetModel",
      "state": {
       "column_headers": [
        "Tenor",
        "Bid",
        "Ask"
       ],
       "columns": 3,
       "layout": "IPY_MODEL_015d111179f448ceb70bd441712ede08",
       "row_headers": false,
       "rows": 6
      }
     },
     "42baeeeaae1d4cdebf2d2109b7975469": {
      "model_module": "ipysheet",
      "model_module_version": "~0.4.3",
      "model_name": "CellRangeModel",
      "state": {
       "_view_module": null,
       "_view_module_version": "",
       "column_end": 0,
       "column_start": 0,
       "row_end": 5,
       "row_start": 0,
       "squeeze_row": false,
       "type": "text",
       "value": [
        "ON",
        "SW",
        "1M",
        "3M",
        "6M",
        "1Y"
       ]
      }
     },
     "42c0ba7e83714a788c633e4e5cb98018": {
      "model_module": "ipysheet",
      "model_module_version": "~0.4.3",
      "model_name": "SheetModel",
      "state": {
       "column_headers": [
        "Tenor",
        "Bid",
        "Ask"
       ],
       "columns": 3,
       "layout": "IPY_MODEL_a5c23fc0660f4292982509de5765d575",
       "row_headers": false,
       "rows": 6
      }
     },
     "43c06ee5911840f9ad625073c3ec6901": {
      "model_module": "@jupyter-widgets/base",
      "model_module_version": "1.2.0",
      "model_name": "LayoutModel",
      "state": {
       "height": "auto",
       "width": "auto"
      }
     },
     "473d7d9522e547ae82ede4ac095bc682": {
      "model_module": "ipysheet",
      "model_module_version": "~0.4.3",
      "model_name": "SheetModel",
      "state": {
       "column_headers": [
        "Tenor",
        "Bid",
        "Ask"
       ],
       "columns": 3,
       "layout": "IPY_MODEL_9c67b629cd4d4f618a7c58e99a96debf",
       "row_headers": false,
       "rows": 6
      }
     },
     "47aa7994652f4a3d800d9872d85945cd": {
      "model_module": "ipysheet",
      "model_module_version": "~0.4.3",
      "model_name": "CellRangeModel",
      "state": {
       "_view_module": null,
       "_view_module_version": "",
       "row_end": 5,
       "row_start": 0,
       "squeeze_row": false,
       "type": "numeric",
       "value": [
        -0.03,
        0.13,
        0.67,
        1.88,
        3.5,
        5.99
       ]
      }
     },
     "47f11d9d024a4c1c910afa8a80dc9492": {
      "model_module": "ipysheet",
      "model_module_version": "~0.4.3",
      "model_name": "SheetModel",
      "state": {
       "cells": [
        "IPY_MODEL_82a45fa6e7994825baf90b5fe334233b",
        "IPY_MODEL_9d7ac6a0032f4ffeb90f7e0c85854342",
        "IPY_MODEL_379454f9ae4b4b17ad07be1ea9647356"
       ],
       "column_headers": [
        "Tenor",
        "Bid",
        "Ask"
       ],
       "columns": 3,
       "layout": "IPY_MODEL_6779db89be4044f596b14b34dd1f6c4b",
       "row_headers": false,
       "rows": 6
      }
     },
     "4830db0f02914e31826e0a57ac0f937a": {
      "model_module": "ipysheet",
      "model_module_version": "~0.4.3",
      "model_name": "CellRangeModel",
      "state": {
       "_view_module": null,
       "_view_module_version": "",
       "row_end": 5,
       "row_start": 0,
       "squeeze_row": false,
       "type": "numeric",
       "value": [
        0.19,
        1.49,
        6.76,
        21.44,
        47.45,
        93.91
       ]
      }
     },
     "4a0ff7652c3a4bedbf3c1c9c8ec68992": {
      "model_module": "ipysheet",
      "model_module_version": "~0.4.3",
      "model_name": "CellRangeModel",
      "state": {
       "_view_module": null,
       "_view_module_version": "",
       "row_end": 5,
       "row_start": 0,
       "squeeze_row": false,
       "type": "numeric",
       "value": [
        -0.101,
        0.13,
        0.87,
        3.02,
        7.07,
        9.79
       ]
      }
     },
     "4ab4042b6eb44fc6a38c5dde4893adf2": {
      "model_module": "ipysheet",
      "model_module_version": "~0.4.3",
      "model_name": "CellRangeModel",
      "state": {
       "_view_module": null,
       "_view_module_version": "",
       "row_end": 5,
       "row_start": 0,
       "squeeze_row": false,
       "type": "numeric",
       "value": [
        -0.03,
        0.13,
        0.67,
        1.88,
        3.5,
        5.99
       ]
      }
     },
     "4acb64c722b9493cb9db66fd43a2732e": {
      "model_module": "ipysheet",
      "model_module_version": "~0.4.3",
      "model_name": "CellRangeModel",
      "state": {
       "_view_module": null,
       "_view_module_version": "",
       "column_end": 2,
       "column_start": 2,
       "row_end": 5,
       "row_start": 0,
       "squeeze_row": false,
       "type": "numeric",
       "value": [
        126,
        917.51,
        4079,
        11820,
        24176,
        48290
       ]
      }
     },
     "4c2c1e381b314b3fa3ad6fba3c809e1d": {
      "model_module": "ipysheet",
      "model_module_version": "~0.4.3",
      "model_name": "SheetModel",
      "state": {
       "column_headers": [
        "Tenor",
        "Bid",
        "Ask"
       ],
       "columns": 3,
       "layout": "IPY_MODEL_22a744f6b8854fc3932630a8d23720b7",
       "row_headers": false,
       "rows": 6
      }
     },
     "4cff985abdfd431ca6a26cb2af1bb93a": {
      "model_module": "@jupyter-widgets/base",
      "model_module_version": "1.2.0",
      "model_name": "LayoutModel",
      "state": {
       "height": "auto",
       "width": "auto"
      }
     },
     "4d63f162a8ce413b8caaaebff75f2b43": {
      "model_module": "@jupyter-widgets/base",
      "model_module_version": "1.2.0",
      "model_name": "LayoutModel",
      "state": {
       "height": "auto",
       "width": "auto"
      }
     },
     "4dbd932e619946dd8f0aaf149d4724fb": {
      "model_module": "ipysheet",
      "model_module_version": "~0.4.3",
      "model_name": "SheetModel",
      "state": {
       "cells": [
        "IPY_MODEL_651f2732559348d49a4cfcb5a4d5ea0f"
       ],
       "column_headers": [
        "Tenor",
        "Bid",
        "Ask"
       ],
       "columns": 3,
       "layout": "IPY_MODEL_77b15093d29c453796793e4263b0397f",
       "row_headers": false,
       "rows": 6
      }
     },
     "4e566f3539694ebd97aeb97b69a569f6": {
      "model_module": "ipysheet",
      "model_module_version": "~0.4.3",
      "model_name": "SheetModel",
      "state": {
       "cells": [
        "IPY_MODEL_3173a055faea41c7b3f4af40f078b2db",
        "IPY_MODEL_f144c840908b437fa5c95aa2cedf5cdc",
        "IPY_MODEL_85fde528d70f484191e7b2c5d401fde5"
       ],
       "column_headers": [
        "Tenor",
        "Bid",
        "Ask"
       ],
       "columns": 3,
       "layout": "IPY_MODEL_ddc52aa14d3a44778427a9922faf992a",
       "row_headers": false,
       "rows": 6
      }
     },
     "4ed42c2eda52466c90dc228fff0aa29e": {
      "model_module": "@jupyter-widgets/base",
      "model_module_version": "1.2.0",
      "model_name": "LayoutModel",
      "state": {
       "height": "auto",
       "width": "auto"
      }
     },
     "4fbc3e6edc734167b58c4ed9c04f591a": {
      "model_module": "ipysheet",
      "model_module_version": "~0.4.3",
      "model_name": "CellRangeModel",
      "state": {
       "_view_module": null,
       "_view_module_version": "",
       "column_end": 0,
       "column_start": 0,
       "row_end": 5,
       "row_start": 0,
       "squeeze_row": false,
       "type": "text",
       "value": [
        "ON",
        "SW",
        "1M",
        "3M",
        "6M",
        "1Y"
       ]
      }
     },
     "4fcbd5fd44db403e996929c60b56fd7e": {
      "model_module": "ipysheet",
      "model_module_version": "~0.4.3",
      "model_name": "CellRangeModel",
      "state": {
       "_view_module": null,
       "_view_module_version": "",
       "column_end": 0,
       "column_start": 0,
       "row_end": 5,
       "row_start": 0,
       "squeeze_row": false,
       "type": "text",
       "value": [
        "ON",
        "SW",
        "1M",
        "3M",
        "6M",
        "1Y"
       ]
      }
     },
     "517c6836d27a4f7f8a20fb725ecb2abd": {
      "model_module": "ipysheet",
      "model_module_version": "~0.4.3",
      "model_name": "SheetModel",
      "state": {
       "column_headers": [
        "Tenor",
        "Bid",
        "Ask"
       ],
       "columns": 3,
       "layout": "IPY_MODEL_9d33a2b6cfcf425b98d3ca2140f4f4ae",
       "row_headers": false,
       "rows": 6
      }
     },
     "51b8381857d14e9da66267e3a5b83c49": {
      "model_module": "ipysheet",
      "model_module_version": "~0.4.3",
      "model_name": "CellRangeModel",
      "state": {
       "_view_module": null,
       "_view_module_version": "",
       "row_end": 5,
       "row_start": 0,
       "squeeze_row": false,
       "type": "numeric",
       "value": [
        -0.03,
        0.13,
        0.67,
        1.88,
        3.5,
        5.99
       ]
      }
     },
     "52aa3726971c4ca8bdd52fd6aa5392b3": {
      "model_module": "ipysheet",
      "model_module_version": "~0.4.3",
      "model_name": "SheetModel",
      "state": {
       "cells": [
        "IPY_MODEL_1834ff1c85494551b00b8a37247cc802",
        "IPY_MODEL_8dde6141eaf646daae03dece4900afa2",
        "IPY_MODEL_3af14513872e488a99637bebf60b344e"
       ],
       "column_headers": [
        "Tenor",
        "Bid",
        "Ask"
       ],
       "columns": 3,
       "layout": "IPY_MODEL_d8068c88f98e4e089de6af2295950652",
       "row_headers": false,
       "rows": 6
      }
     },
     "53ea476f7a9c45e0995853c6c2cc5ae1": {
      "model_module": "@jupyter-widgets/base",
      "model_module_version": "1.2.0",
      "model_name": "LayoutModel",
      "state": {
       "height": "auto",
       "width": "auto"
      }
     },
     "546bda249bcb4ee2886f27a5151b5cb0": {
      "model_module": "ipysheet",
      "model_module_version": "~0.4.3",
      "model_name": "CellRangeModel",
      "state": {
       "_view_module": null,
       "_view_module_version": "",
       "column_end": 2,
       "column_start": 2,
       "row_end": 5,
       "row_start": 0,
       "squeeze_row": false,
       "type": "numeric",
       "value": [
        0.15,
        -0.51,
        -2.32,
        -7.98,
        -21.73,
        -43.59
       ]
      }
     },
     "54a276b4374b4c8d96c3a3c9d3496811": {
      "model_module": "@jupyter-widgets/base",
      "model_module_version": "1.2.0",
      "model_name": "LayoutModel",
      "state": {
       "height": "auto",
       "width": "auto"
      }
     },
     "576a43a67102417fa0cd08345b63f50a": {
      "model_module": "ipysheet",
      "model_module_version": "~0.4.3",
      "model_name": "SheetModel",
      "state": {
       "column_headers": [
        "Tenor",
        "Bid",
        "Ask"
       ],
       "columns": 3,
       "layout": "IPY_MODEL_5ae4f6d89461452694815581187bd401",
       "row_headers": false,
       "rows": 6
      }
     },
     "57c9f61ce23d4255a40156d7c24e1f12": {
      "model_module": "ipysheet",
      "model_module_version": "~0.4.3",
      "model_name": "CellRangeModel",
      "state": {
       "_view_module": null,
       "_view_module_version": "",
       "row_end": 5,
       "row_start": 0,
       "squeeze_row": false,
       "type": "numeric",
       "value": [
        -0.25,
        -0.56,
        -2.39,
        -8.13,
        -22.73,
        -44.71
       ]
      }
     },
     "57faebe6199c41118c1789e87036012d": {
      "model_module": "ipysheet",
      "model_module_version": "~0.4.3",
      "model_name": "SheetModel",
      "state": {
       "cells": [
        "IPY_MODEL_ea100badbf64476296083ac9816997e5",
        "IPY_MODEL_f49409dc80c8426791fb3b54c88d0d8b",
        "IPY_MODEL_8ea1b1cba3e544009d02f50cfd7caf9c"
       ],
       "column_headers": [
        "Tenor",
        "Bid",
        "Ask"
       ],
       "columns": 3,
       "layout": "IPY_MODEL_932bd24449fa4205afcbce4d1b58e031",
       "row_headers": false,
       "rows": 6
      }
     },
     "580b968a244149429684e5f6eafa7f10": {
      "model_module": "ipysheet",
      "model_module_version": "~0.4.3",
      "model_name": "SheetModel",
      "state": {
       "column_headers": [
        "Tenor",
        "Bid",
        "Ask"
       ],
       "columns": 3,
       "layout": "IPY_MODEL_bcd7c86b602e4262a5c1ec3bd62c9450",
       "row_headers": false,
       "rows": 6
      }
     },
     "58b4011adae44baebdce377b7b92b5b4": {
      "model_module": "ipysheet",
      "model_module_version": "~0.4.3",
      "model_name": "SheetModel",
      "state": {
       "column_headers": [
        "Tenor",
        "Bid",
        "Ask"
       ],
       "columns": 3,
       "layout": "IPY_MODEL_5ad7f8646cc44ac8bc5e8f2a50a3ffee",
       "row_headers": false,
       "rows": 6
      }
     },
     "5a2e1a46c2c54c638488cd59daeddd9b": {
      "model_module": "ipysheet",
      "model_module_version": "~0.4.3",
      "model_name": "SheetModel",
      "state": {
       "column_headers": [
        "Tenor",
        "Bid",
        "Ask"
       ],
       "columns": 3,
       "layout": "IPY_MODEL_338b4dea45304726ac423c9539ec0d8a",
       "row_headers": false,
       "rows": 6
      }
     },
     "5a706b7d67734497b21c090bd7b11387": {
      "model_module": "ipysheet",
      "model_module_version": "~0.4.3",
      "model_name": "SheetModel",
      "state": {
       "column_headers": [
        "Tenor",
        "Bid",
        "Ask"
       ],
       "columns": 3,
       "layout": "IPY_MODEL_141589a4a03a428d9bc9226ddaedeb29",
       "row_headers": false,
       "rows": 6
      }
     },
     "5ad7f8646cc44ac8bc5e8f2a50a3ffee": {
      "model_module": "@jupyter-widgets/base",
      "model_module_version": "1.2.0",
      "model_name": "LayoutModel",
      "state": {
       "height": "auto",
       "width": "auto"
      }
     },
     "5ae4f6d89461452694815581187bd401": {
      "model_module": "@jupyter-widgets/base",
      "model_module_version": "1.2.0",
      "model_name": "LayoutModel",
      "state": {
       "height": "auto",
       "width": "auto"
      }
     },
     "5cb034fce4a0472f816ae3db91c679b6": {
      "model_module": "@jupyter-widgets/base",
      "model_module_version": "1.2.0",
      "model_name": "LayoutModel",
      "state": {
       "height": "auto",
       "width": "auto"
      }
     },
     "5d7254a986d34b909755277183e21d3a": {
      "model_module": "ipysheet",
      "model_module_version": "~0.4.3",
      "model_name": "SheetModel",
      "state": {
       "column_headers": [
        "Tenor",
        "Bid",
        "Ask"
       ],
       "columns": 3,
       "layout": "IPY_MODEL_d7e82bf5a00a48b295bd0f50121859c5",
       "row_headers": false,
       "rows": 6
      }
     },
     "5d9c9b67bd2f41f9ae529ba5d27693e9": {
      "model_module": "ipysheet",
      "model_module_version": "~0.4.3",
      "model_name": "SheetModel",
      "state": {
       "column_headers": [
        "Tenor",
        "Bid",
        "Ask"
       ],
       "columns": 3,
       "layout": "IPY_MODEL_8e2abbcf6321475aab9b31ec74a91dbc",
       "row_headers": false,
       "rows": 6
      }
     },
     "5dc010fc67994f3b9ac07edc639158b8": {
      "model_module": "ipysheet",
      "model_module_version": "~0.4.3",
      "model_name": "SheetModel",
      "state": {
       "cells": [
        "IPY_MODEL_5f338ad7f99b4f59bacb53cdde345db2",
        "IPY_MODEL_57c9f61ce23d4255a40156d7c24e1f12",
        "IPY_MODEL_ffe81305486d45adb9ab0e8cf7b4d5a5"
       ],
       "column_headers": [
        "Tenor",
        "Bid",
        "Ask"
       ],
       "columns": 3,
       "layout": "IPY_MODEL_8cb0f8be745b427eb52025b5d845dea4",
       "row_headers": false,
       "rows": 6
      }
     },
     "5dd2e27213194973b358050c573c406d": {
      "model_module": "@jupyter-widgets/base",
      "model_module_version": "1.2.0",
      "model_name": "LayoutModel",
      "state": {
       "height": "auto",
       "width": "auto"
      }
     },
     "5e45ddecb646439dbf3f2e6ced5b648a": {
      "model_module": "ipysheet",
      "model_module_version": "~0.4.3",
      "model_name": "CellRangeModel",
      "state": {
       "_view_module": null,
       "_view_module_version": "",
       "column_end": 0,
       "column_start": 0,
       "row_end": 5,
       "row_start": 0,
       "squeeze_row": false,
       "type": "text",
       "value": [
        "ON",
        "SW",
        "1M",
        "3M",
        "6M",
        "1Y"
       ]
      }
     },
     "5ec57cac990147448ec3dd5324efcc3b": {
      "model_module": "ipysheet",
      "model_module_version": "~0.4.3",
      "model_name": "CellRangeModel",
      "state": {
       "_view_module": null,
       "_view_module_version": "",
       "column_end": 0,
       "column_start": 0,
       "row_end": 5,
       "row_start": 0,
       "squeeze_row": false,
       "type": "text",
       "value": [
        "ON",
        "SW",
        "1M",
        "3M",
        "6M",
        "1Y"
       ]
      }
     },
     "5eea3eb4d31c43fd8c7815243ab6dac8": {
      "model_module": "ipysheet",
      "model_module_version": "~0.4.3",
      "model_name": "CellRangeModel",
      "state": {
       "_view_module": null,
       "_view_module_version": "",
       "column_end": 2,
       "column_start": 2,
       "row_end": 5,
       "row_start": 0,
       "squeeze_row": false,
       "type": "numeric",
       "value": [
        0.07,
        0.23,
        0.87,
        2.08,
        4,
        6.99
       ]
      }
     },
     "5eec185eb0d44c24818fbb5f013cc1e3": {
      "model_module": "@jupyter-widgets/base",
      "model_module_version": "1.2.0",
      "model_name": "LayoutModel",
      "state": {
       "height": "auto",
       "width": "auto"
      }
     },
     "5f338ad7f99b4f59bacb53cdde345db2": {
      "model_module": "ipysheet",
      "model_module_version": "~0.4.3",
      "model_name": "CellRangeModel",
      "state": {
       "_view_module": null,
       "_view_module_version": "",
       "column_end": 0,
       "column_start": 0,
       "row_end": 5,
       "row_start": 0,
       "squeeze_row": false,
       "type": "text",
       "value": [
        "ON",
        "SW",
        "1M",
        "3M",
        "6M",
        "1Y"
       ]
      }
     },
     "5f6f1181413a499f9526716da5ec7278": {
      "model_module": "ipysheet",
      "model_module_version": "~0.4.3",
      "model_name": "SheetModel",
      "state": {
       "column_headers": [
        "Tenor",
        "Bid",
        "Ask"
       ],
       "columns": 3,
       "layout": "IPY_MODEL_2821b306a2354d0ebab297948f61cdbd",
       "row_headers": false,
       "rows": 6
      }
     },
     "608848007fb846af8a119d8376ad2f97": {
      "model_module": "ipysheet",
      "model_module_version": "~0.4.3",
      "model_name": "SheetModel",
      "state": {
       "column_headers": [
        "Tenor",
        "Bid",
        "Ask"
       ],
       "columns": 3,
       "layout": "IPY_MODEL_6d4c882c4dc84d02a23b782b83f9c773",
       "row_headers": false,
       "rows": 6
      }
     },
     "637f1fad7aab4adf9b6446255baf74ab": {
      "model_module": "ipysheet",
      "model_module_version": "~0.4.3",
      "model_name": "CellRangeModel",
      "state": {
       "_view_module": null,
       "_view_module_version": "",
       "column_end": 0,
       "column_start": 0,
       "row_end": 5,
       "row_start": 0,
       "squeeze_row": false,
       "type": "text",
       "value": [
        "ON",
        "SW",
        "1M",
        "3M",
        "6M",
        "1Y"
       ]
      }
     },
     "6416efa7d0284adb9eab2c25b319208b": {
      "model_module": "@jupyter-widgets/base",
      "model_module_version": "1.2.0",
      "model_name": "LayoutModel",
      "state": {
       "height": "auto",
       "width": "auto"
      }
     },
     "651f2732559348d49a4cfcb5a4d5ea0f": {
      "model_module": "ipysheet",
      "model_module_version": "~0.4.3",
      "model_name": "CellRangeModel",
      "state": {
       "_view_module": null,
       "_view_module_version": "",
       "column_end": 0,
       "column_start": 0,
       "row_end": 5,
       "row_start": 0,
       "squeeze_row": false,
       "type": "text",
       "value": [
        "ON",
        "SW",
        "1M",
        "3M",
        "6M",
        "1Y"
       ]
      }
     },
     "671756b7b9e94586aaef85e2600185bc": {
      "model_module": "ipysheet",
      "model_module_version": "~0.4.3",
      "model_name": "SheetModel",
      "state": {
       "column_headers": [
        "Tenor",
        "Bid",
        "Ask"
       ],
       "columns": 3,
       "layout": "IPY_MODEL_4d63f162a8ce413b8caaaebff75f2b43",
       "row_headers": false,
       "rows": 6
      }
     },
     "6779db89be4044f596b14b34dd1f6c4b": {
      "model_module": "@jupyter-widgets/base",
      "model_module_version": "1.2.0",
      "model_name": "LayoutModel",
      "state": {
       "height": "auto",
       "width": "auto"
      }
     },
     "678fe9af4ea6416fbc2e84494ab11d4e": {
      "model_module": "@jupyter-widgets/base",
      "model_module_version": "1.2.0",
      "model_name": "LayoutModel",
      "state": {
       "height": "auto",
       "width": "auto"
      }
     },
     "67ac2e70cead41008832be72a6ee73ae": {
      "model_module": "ipysheet",
      "model_module_version": "~0.4.3",
      "model_name": "SheetModel",
      "state": {
       "column_headers": [
        "Tenor",
        "Bid",
        "Ask"
       ],
       "columns": 3,
       "layout": "IPY_MODEL_a3182408904b474781093b3e2c2cfe90",
       "row_headers": false,
       "rows": 6
      }
     },
     "6935ff1aeb384154bf0778ea02e903dd": {
      "model_module": "@jupyter-widgets/base",
      "model_module_version": "1.2.0",
      "model_name": "LayoutModel",
      "state": {
       "height": "auto",
       "width": "auto"
      }
     },
     "69f6b6ed6997464b8ddbac1b6e7305ec": {
      "model_module": "@jupyter-widgets/base",
      "model_module_version": "1.2.0",
      "model_name": "LayoutModel",
      "state": {
       "height": "auto",
       "width": "auto"
      }
     },
     "6b648fdebca7411894ec69a48c6a46bf": {
      "model_module": "@jupyter-widgets/base",
      "model_module_version": "1.2.0",
      "model_name": "LayoutModel",
      "state": {
       "height": "auto",
       "width": "auto"
      }
     },
     "6c07857a7a704025ae7897ddca040bf5": {
      "model_module": "ipysheet",
      "model_module_version": "~0.4.3",
      "model_name": "SheetModel",
      "state": {
       "cells": [
        "IPY_MODEL_73fd471ae65c498888b77dad734897c4",
        "IPY_MODEL_913454ad215e4717839d482cde71dc6f",
        "IPY_MODEL_6d5c0670c7c345059c41d0dc7db95089"
       ],
       "column_headers": [
        "Tenor",
        "Bid",
        "Ask"
       ],
       "columns": 3,
       "layout": "IPY_MODEL_e0eef77a510f4c62840af94eee58a542",
       "row_headers": false,
       "rows": 6
      }
     },
     "6c0c5a61645347cfb583b496943f6984": {
      "model_module": "ipysheet",
      "model_module_version": "~0.4.3",
      "model_name": "SheetModel",
      "state": {
       "cells": [
        "IPY_MODEL_8ff3662ac6c94b899bbaa458cc61cf07"
       ],
       "column_headers": [
        "Tenor",
        "Bid",
        "Ask"
       ],
       "columns": 3,
       "layout": "IPY_MODEL_1cb590ddf5b64b53aaa2f09dff8a6926",
       "row_headers": false,
       "rows": 6
      }
     },
     "6ca78bd102904ce28015ceceaa7f8198": {
      "model_module": "ipysheet",
      "model_module_version": "~0.4.3",
      "model_name": "CellRangeModel",
      "state": {
       "_view_module": null,
       "_view_module_version": "",
       "column_end": 2,
       "column_start": 2,
       "row_end": 5,
       "row_start": 0,
       "squeeze_row": false,
       "type": "numeric",
       "value": [
        0.23,
        1.57,
        6.91,
        21.64,
        48.44,
        95.41
       ]
      }
     },
     "6d4c882c4dc84d02a23b782b83f9c773": {
      "model_module": "@jupyter-widgets/base",
      "model_module_version": "1.2.0",
      "model_name": "LayoutModel",
      "state": {
       "height": "auto",
       "width": "auto"
      }
     },
     "6d5c0670c7c345059c41d0dc7db95089": {
      "model_module": "ipysheet",
      "model_module_version": "~0.4.3",
      "model_name": "CellRangeModel",
      "state": {
       "_view_module": null,
       "_view_module_version": "",
       "column_end": 2,
       "column_start": 2,
       "row_end": 5,
       "row_start": 0,
       "squeeze_row": false,
       "type": "numeric",
       "value": [
        0.145,
        0.22,
        1.03,
        3.22,
        7.44,
        11.29
       ]
      }
     },
     "6eeb3771a79d4d41b47c32b81f24ea30": {
      "model_module": "ipysheet",
      "model_module_version": "~0.4.3",
      "model_name": "SheetModel",
      "state": {
       "cells": [
        "IPY_MODEL_d2478fbf912f40ca8e0f5fae45af3ff5",
        "IPY_MODEL_47aa7994652f4a3d800d9872d85945cd",
        "IPY_MODEL_ca7ad76c89d8465b8f1ceebc8dae2a16"
       ],
       "column_headers": [
        "Tenor",
        "Bid",
        "Ask"
       ],
       "columns": 3,
       "layout": "IPY_MODEL_e81a7d60d794488b876f2c3af5d95efe",
       "row_headers": false,
       "rows": 6
      }
     },
     "6ef16e2521864685a9135977c866a7d4": {
      "model_module": "ipysheet",
      "model_module_version": "~0.4.3",
      "model_name": "CellRangeModel",
      "state": {
       "_view_module": null,
       "_view_module_version": "",
       "column_end": 0,
       "column_start": 0,
       "row_end": 5,
       "row_start": 0,
       "squeeze_row": false,
       "type": "text",
       "value": [
        "ON",
        "SW",
        "1M",
        "3M",
        "6M",
        "1Y"
       ]
      }
     },
     "6f1b4a3abb4546808be2c8f00b1399ba": {
      "model_module": "ipysheet",
      "model_module_version": "~0.4.3",
      "model_name": "SheetModel",
      "state": {
       "cells": [
        "IPY_MODEL_051f5722396f4475b9d45a4fabdfb7d0"
       ],
       "column_headers": [
        "Tenor",
        "Bid",
        "Ask"
       ],
       "columns": 3,
       "layout": "IPY_MODEL_5dd2e27213194973b358050c573c406d",
       "row_headers": false,
       "rows": 6
      }
     },
     "6f871bc824af462f8241c8436d041df2": {
      "model_module": "ipysheet",
      "model_module_version": "~0.4.3",
      "model_name": "SheetModel",
      "state": {
       "column_headers": [
        "Tenor",
        "Bid",
        "Ask"
       ],
       "columns": 3,
       "layout": "IPY_MODEL_d94e1fc3e2d14c7094a37de87fbbd140",
       "row_headers": false,
       "rows": 6
      }
     },
     "70596ef57d944231a22795e589cefd90": {
      "model_module": "@jupyter-widgets/base",
      "model_module_version": "1.2.0",
      "model_name": "LayoutModel",
      "state": {
       "height": "auto",
       "width": "auto"
      }
     },
     "71929abb59dd4f458316800e225f249c": {
      "model_module": "ipysheet",
      "model_module_version": "~0.4.3",
      "model_name": "CellRangeModel",
      "state": {
       "_view_module": null,
       "_view_module_version": "",
       "column_end": 0,
       "column_start": 0,
       "row_end": 5,
       "row_start": 0,
       "squeeze_row": false,
       "type": "text",
       "value": [
        "ON",
        "SW",
        "1M",
        "3M",
        "6M",
        "1Y"
       ]
      }
     },
     "726abb1a6906483c8c108a71b37badd9": {
      "model_module": "ipysheet",
      "model_module_version": "~0.4.3",
      "model_name": "CellRangeModel",
      "state": {
       "_view_module": null,
       "_view_module_version": "",
       "column_end": 0,
       "column_start": 0,
       "row_end": 5,
       "row_start": 0,
       "squeeze_row": false,
       "type": "text",
       "value": [
        "ON",
        "SW",
        "1M",
        "3M",
        "6M",
        "1Y"
       ]
      }
     },
     "72e955c971d94429ae8cef8268107676": {
      "model_module": "ipysheet",
      "model_module_version": "~0.4.3",
      "model_name": "SheetModel",
      "state": {
       "column_headers": [
        "Tenor",
        "Bid",
        "Ask"
       ],
       "columns": 3,
       "layout": "IPY_MODEL_f25fb2f5b75040af9d1f6564edd29c83",
       "row_headers": false,
       "rows": 6
      }
     },
     "7382b2f809d941ea871f1ef7e76895e1": {
      "model_module": "ipysheet",
      "model_module_version": "~0.4.3",
      "model_name": "CellRangeModel",
      "state": {
       "_view_module": null,
       "_view_module_version": "",
       "row_end": 5,
       "row_start": 0,
       "squeeze_row": false,
       "type": "numeric",
       "value": [
        -0.015,
        -0.01,
        0.56,
        1.97,
        6.64,
        -0.52
       ]
      }
     },
     "73fd471ae65c498888b77dad734897c4": {
      "model_module": "ipysheet",
      "model_module_version": "~0.4.3",
      "model_name": "CellRangeModel",
      "state": {
       "_view_module": null,
       "_view_module_version": "",
       "column_end": 0,
       "column_start": 0,
       "row_end": 5,
       "row_start": 0,
       "squeeze_row": false,
       "type": "text",
       "value": [
        "ON",
        "SW",
        "1M",
        "3M",
        "6M",
        "1Y"
       ]
      }
     },
     "75799d4dbb14470bab512a382a6acb0b": {
      "model_module": "ipysheet",
      "model_module_version": "~0.4.3",
      "model_name": "SheetModel",
      "state": {
       "cells": [
        "IPY_MODEL_42baeeeaae1d4cdebf2d2109b7975469"
       ],
       "column_headers": [
        "Tenor",
        "Bid",
        "Ask"
       ],
       "columns": 3,
       "layout": "IPY_MODEL_16199e9790ef403aa96c847ada484382",
       "row_headers": false,
       "rows": 6
      }
     },
     "761a4ebc5bd34dc68f8b2ce466b80728": {
      "model_module": "@jupyter-widgets/base",
      "model_module_version": "1.2.0",
      "model_name": "LayoutModel",
      "state": {
       "height": "auto",
       "width": "auto"
      }
     },
     "767871be83464d079747d61d8d1cb5b2": {
      "model_module": "ipysheet",
      "model_module_version": "~0.4.3",
      "model_name": "SheetModel",
      "state": {
       "column_headers": [
        "Tenor",
        "Bid",
        "Ask"
       ],
       "columns": 3,
       "layout": "IPY_MODEL_da5ab3c018aa4b14bb910c583c651499",
       "row_headers": false,
       "rows": 6
      }
     },
     "7750c955c7004b9fae3d51f8f24f4c12": {
      "model_module": "@jupyter-widgets/base",
      "model_module_version": "1.2.0",
      "model_name": "LayoutModel",
      "state": {
       "height": "auto",
       "width": "auto"
      }
     },
     "77b15093d29c453796793e4263b0397f": {
      "model_module": "@jupyter-widgets/base",
      "model_module_version": "1.2.0",
      "model_name": "LayoutModel",
      "state": {
       "height": "auto",
       "width": "auto"
      }
     },
     "78548e06cd0e4bf68cf91251588a9494": {
      "model_module": "ipysheet",
      "model_module_version": "~0.4.3",
      "model_name": "CellRangeModel",
      "state": {
       "_view_module": null,
       "_view_module_version": "",
       "row_end": 5,
       "row_start": 0,
       "squeeze_row": false,
       "type": "numeric",
       "value": [
        -0.03,
        0.13,
        0.67,
        1.88,
        3.5,
        5.99
       ]
      }
     },
     "78dcb2d14da749c1809a806c75141a0f": {
      "model_module": "ipysheet",
      "model_module_version": "~0.4.3",
      "model_name": "CellRangeModel",
      "state": {
       "_view_module": null,
       "_view_module_version": "",
       "column_end": 2,
       "column_start": 2,
       "row_end": 5,
       "row_start": 0,
       "squeeze_row": false,
       "type": "numeric",
       "value": [
        0.23,
        1.57,
        6.91,
        21.64,
        48.44,
        95.41
       ]
      }
     },
     "7a7de2a5066d43548a78e31b4d70c2e2": {
      "model_module": "ipysheet",
      "model_module_version": "~0.4.3",
      "model_name": "CellRangeModel",
      "state": {
       "_view_module": null,
       "_view_module_version": "",
       "row_end": 5,
       "row_start": 0,
       "squeeze_row": false,
       "type": "numeric",
       "value": [
        -0.03,
        0.13,
        0.67,
        1.88,
        3.5,
        5.99
       ]
      }
     },
     "7b590ea577c04ee09eb93cb7c8ae1bf5": {
      "model_module": "ipysheet",
      "model_module_version": "~0.4.3",
      "model_name": "CellRangeModel",
      "state": {
       "_view_module": null,
       "_view_module_version": "",
       "row_end": 5,
       "row_start": 0,
       "squeeze_row": false,
       "type": "numeric",
       "value": [
        0.19,
        1.49,
        6.76,
        21.44,
        47.45,
        93.91
       ]
      }
     },
     "7df0761aaa19450e82d725d222f80e49": {
      "model_module": "ipysheet",
      "model_module_version": "~0.4.3",
      "model_name": "SheetModel",
      "state": {
       "cells": [
        "IPY_MODEL_9cce60fdeb4d4cb09d957ea0683ed4f3",
        "IPY_MODEL_844e21d6761f4be681b6501c7c2df4c4",
        "IPY_MODEL_98c248c2e8334d27bc31fdec04a3c2d0"
       ],
       "column_headers": [
        "Tenor",
        "Bid",
        "Ask"
       ],
       "columns": 3,
       "layout": "IPY_MODEL_eff0e874f32740528fb8370a6aa3cac6",
       "row_headers": false,
       "rows": 6
      }
     },
     "7e50a782e9414049a21f95d0dd2a3100": {
      "model_module": "ipysheet",
      "model_module_version": "~0.4.3",
      "model_name": "CellRangeModel",
      "state": {
       "_view_module": null,
       "_view_module_version": "",
       "column_end": 2,
       "column_start": 2,
       "row_end": 5,
       "row_start": 0,
       "squeeze_row": false,
       "type": "numeric",
       "value": [
        0.042,
        0.31,
        0.86,
        2.32,
        7.51,
        2.49
       ]
      }
     },
     "7ebea4d569a548928fd01ee99e8fe71c": {
      "model_module": "ipysheet",
      "model_module_version": "~0.4.3",
      "model_name": "CellRangeModel",
      "state": {
       "_view_module": null,
       "_view_module_version": "",
       "column_end": 2,
       "column_start": 2,
       "row_end": 5,
       "row_start": 0,
       "squeeze_row": false,
       "type": "numeric",
       "value": [
        0.145,
        0.22,
        1.03,
        3.22,
        7.44,
        11.29
       ]
      }
     },
     "8231a333e8984bc18c22cd829ff86cd4": {
      "model_module": "ipysheet",
      "model_module_version": "~0.4.3",
      "model_name": "CellRangeModel",
      "state": {
       "_view_module": null,
       "_view_module_version": "",
       "row_end": 5,
       "row_start": 0,
       "squeeze_row": false,
       "type": "numeric",
       "value": [
        -0.03,
        0.13,
        0.67,
        1.88,
        3.5,
        5.99
       ]
      }
     },
     "826e310d796142b38bbc7f9eb685ddfb": {
      "model_module": "ipysheet",
      "model_module_version": "~0.4.3",
      "model_name": "CellRangeModel",
      "state": {
       "_view_module": null,
       "_view_module_version": "",
       "column_end": 0,
       "column_start": 0,
       "row_end": 5,
       "row_start": 0,
       "squeeze_row": false,
       "type": "text",
       "value": [
        "ON",
        "SW",
        "1M",
        "3M",
        "6M",
        "1Y"
       ]
      }
     },
     "82a45fa6e7994825baf90b5fe334233b": {
      "model_module": "ipysheet",
      "model_module_version": "~0.4.3",
      "model_name": "CellRangeModel",
      "state": {
       "_view_module": null,
       "_view_module_version": "",
       "column_end": 0,
       "column_start": 0,
       "row_end": 5,
       "row_start": 0,
       "squeeze_row": false,
       "type": "text",
       "value": [
        "ON",
        "SW",
        "1M",
        "3M",
        "6M",
        "1Y"
       ]
      }
     },
     "844e21d6761f4be681b6501c7c2df4c4": {
      "model_module": "ipysheet",
      "model_module_version": "~0.4.3",
      "model_name": "CellRangeModel",
      "state": {
       "_view_module": null,
       "_view_module_version": "",
       "row_end": 5,
       "row_start": 0,
       "squeeze_row": false,
       "type": "numeric",
       "value": [
        -0.03,
        0.13,
        0.67,
        1.88,
        3.5,
        5.99
       ]
      }
     },
     "855ed5e6aaee428eae8b80d6312b4252": {
      "model_module": "@jupyter-widgets/base",
      "model_module_version": "1.2.0",
      "model_name": "LayoutModel",
      "state": {
       "height": "auto",
       "width": "auto"
      }
     },
     "85f2a502d6784ceab91c351cd48c8e12": {
      "model_module": "@jupyter-widgets/base",
      "model_module_version": "1.2.0",
      "model_name": "LayoutModel",
      "state": {
       "height": "auto",
       "width": "auto"
      }
     },
     "85fde528d70f484191e7b2c5d401fde5": {
      "model_module": "ipysheet",
      "model_module_version": "~0.4.3",
      "model_name": "CellRangeModel",
      "state": {
       "_view_module": null,
       "_view_module_version": "",
       "column_end": 2,
       "column_start": 2,
       "row_end": 5,
       "row_start": 0,
       "squeeze_row": false,
       "type": "numeric",
       "value": [
        0.23,
        1.57,
        6.91,
        21.64,
        48.44,
        95.41
       ]
      }
     },
     "87844c2d6a5d4029ba3ddb559e1f4d26": {
      "model_module": "@jupyter-widgets/base",
      "model_module_version": "1.2.0",
      "model_name": "LayoutModel",
      "state": {
       "height": "auto",
       "width": "auto"
      }
     },
     "885b9cfbf31841218f73545651a0d3da": {
      "model_module": "ipysheet",
      "model_module_version": "~0.4.3",
      "model_name": "SheetModel",
      "state": {
       "column_headers": [
        "Tenor",
        "Bid",
        "Ask"
       ],
       "columns": 3,
       "layout": "IPY_MODEL_1cb2e50abacc4300b6e742191020f03e",
       "row_headers": false,
       "rows": 6
      }
     },
     "89743fbca5f742c2a4507ff90ea1e2d9": {
      "model_module": "@jupyter-widgets/base",
      "model_module_version": "1.2.0",
      "model_name": "LayoutModel",
      "state": {
       "height": "auto",
       "width": "auto"
      }
     },
     "8af93792838e4197a2d4ffa68545d29e": {
      "model_module": "ipysheet",
      "model_module_version": "~0.4.3",
      "model_name": "SheetModel",
      "state": {
       "column_headers": [
        "Tenor",
        "Bid",
        "Ask"
       ],
       "columns": 3,
       "layout": "IPY_MODEL_4cff985abdfd431ca6a26cb2af1bb93a",
       "row_headers": false,
       "rows": 6
      }
     },
     "8bd071891bdb4c3cbeef36750bac3f0a": {
      "model_module": "@jupyter-widgets/base",
      "model_module_version": "1.2.0",
      "model_name": "LayoutModel",
      "state": {
       "height": "auto",
       "width": "auto"
      }
     },
     "8bdbb242ebd645a786495a290210d8b9": {
      "model_module": "ipysheet",
      "model_module_version": "~0.4.3",
      "model_name": "SheetModel",
      "state": {
       "cells": [
        "IPY_MODEL_4fbc3e6edc734167b58c4ed9c04f591a",
        "IPY_MODEL_8ffe6c5d1a254185a17485691f51d99d",
        "IPY_MODEL_1f680a917bbd449d971f04836e588b1d"
       ],
       "column_headers": [
        "Tenor",
        "Bid",
        "Ask"
       ],
       "columns": 3,
       "layout": "IPY_MODEL_3b2cf1653d5e4103b4c86dce48ea9c28",
       "row_headers": false,
       "rows": 6
      }
     },
     "8cb0f8be745b427eb52025b5d845dea4": {
      "model_module": "@jupyter-widgets/base",
      "model_module_version": "1.2.0",
      "model_name": "LayoutModel",
      "state": {
       "height": "auto",
       "width": "auto"
      }
     },
     "8cb3195a398f46db972ab41c172de7dd": {
      "model_module": "ipysheet",
      "model_module_version": "~0.4.3",
      "model_name": "CellRangeModel",
      "state": {
       "_view_module": null,
       "_view_module_version": "",
       "column_end": 2,
       "column_start": 2,
       "row_end": 5,
       "row_start": 0,
       "squeeze_row": false,
       "type": "numeric",
       "value": [
        0.23,
        1.57,
        6.91,
        21.64,
        48.44,
        95.41
       ]
      }
     },
     "8d095d37702a44d3abee863e10e2c336": {
      "model_module": "ipysheet",
      "model_module_version": "~0.4.3",
      "model_name": "CellRangeModel",
      "state": {
       "_view_module": null,
       "_view_module_version": "",
       "column_end": 0,
       "column_start": 0,
       "row_end": 5,
       "row_start": 0,
       "squeeze_row": false,
       "type": "text",
       "value": [
        "ON",
        "SW",
        "1M",
        "3M",
        "6M",
        "1Y"
       ]
      }
     },
     "8dde6141eaf646daae03dece4900afa2": {
      "model_module": "ipysheet",
      "model_module_version": "~0.4.3",
      "model_name": "CellRangeModel",
      "state": {
       "_view_module": null,
       "_view_module_version": "",
       "row_end": 5,
       "row_start": 0,
       "squeeze_row": false,
       "type": "numeric",
       "value": [
        -0.03,
        0.13,
        0.64,
        1.89,
        3.42,
        5.99
       ]
      }
     },
     "8e1d54f4141b47b99cbeadd55eaa53ea": {
      "model_module": "ipysheet",
      "model_module_version": "~0.4.3",
      "model_name": "SheetModel",
      "state": {
       "column_headers": [
        "Tenor",
        "Bid",
        "Ask"
       ],
       "columns": 3,
       "layout": "IPY_MODEL_c43e6fc7f44941b3aeaca0dd5ab3cbe1",
       "row_headers": false,
       "rows": 6
      }
     },
     "8e2abbcf6321475aab9b31ec74a91dbc": {
      "model_module": "@jupyter-widgets/base",
      "model_module_version": "1.2.0",
      "model_name": "LayoutModel",
      "state": {
       "height": "auto",
       "width": "auto"
      }
     },
     "8e896e96b329402aa82f7b65a2fd4691": {
      "model_module": "ipysheet",
      "model_module_version": "~0.4.3",
      "model_name": "SheetModel",
      "state": {
       "cells": [
        "IPY_MODEL_2672af482a8047ccaaa0f8219ae9189c",
        "IPY_MODEL_0e879a197ba64c5abd6e5e59897e8c26",
        "IPY_MODEL_4acb64c722b9493cb9db66fd43a2732e"
       ],
       "column_headers": [
        "Tenor",
        "Bid",
        "Ask"
       ],
       "columns": 3,
       "layout": "IPY_MODEL_f801f1f837fc45bca361f158470951a7",
       "row_headers": false,
       "rows": 6
      }
     },
     "8ea1b1cba3e544009d02f50cfd7caf9c": {
      "model_module": "ipysheet",
      "model_module_version": "~0.4.3",
      "model_name": "CellRangeModel",
      "state": {
       "_view_module": null,
       "_view_module_version": "",
       "column_end": 2,
       "column_start": 2,
       "row_end": 5,
       "row_start": 0,
       "squeeze_row": false,
       "type": "numeric",
       "value": [
        0.23,
        1.57,
        6.91,
        21.64,
        48.44,
        95.41
       ]
      }
     },
     "8ff3662ac6c94b899bbaa458cc61cf07": {
      "model_module": "ipysheet",
      "model_module_version": "~0.4.3",
      "model_name": "CellRangeModel",
      "state": {
       "_view_module": null,
       "_view_module_version": "",
       "column_end": 0,
       "column_start": 0,
       "row_end": 5,
       "row_start": 0,
       "squeeze_row": false,
       "type": "text",
       "value": [
        "ON",
        "SW",
        "1M",
        "3M",
        "6M",
        "1Y"
       ]
      }
     },
     "8ffe6c5d1a254185a17485691f51d99d": {
      "model_module": "ipysheet",
      "model_module_version": "~0.4.3",
      "model_name": "CellRangeModel",
      "state": {
       "_view_module": null,
       "_view_module_version": "",
       "row_end": 5,
       "row_start": 0,
       "squeeze_row": false,
       "type": "numeric",
       "value": [
        -0.25,
        -0.56,
        -2.39,
        -8.13,
        -22.73,
        -44.71
       ]
      }
     },
     "903cea00ac1544dd86eb2dd00b04cc6a": {
      "model_module": "ipysheet",
      "model_module_version": "~0.4.3",
      "model_name": "SheetModel",
      "state": {
       "column_headers": [
        "Tenor",
        "Bid",
        "Ask"
       ],
       "columns": 3,
       "layout": "IPY_MODEL_c1928c53722e4efbb619c062321cab45",
       "row_headers": false,
       "rows": 6
      }
     },
     "913454ad215e4717839d482cde71dc6f": {
      "model_module": "ipysheet",
      "model_module_version": "~0.4.3",
      "model_name": "CellRangeModel",
      "state": {
       "_view_module": null,
       "_view_module_version": "",
       "row_end": 5,
       "row_start": 0,
       "squeeze_row": false,
       "type": "numeric",
       "value": [
        -0.101,
        0.13,
        0.87,
        3.02,
        7.07,
        9.79
       ]
      }
     },
     "932bd24449fa4205afcbce4d1b58e031": {
      "model_module": "@jupyter-widgets/base",
      "model_module_version": "1.2.0",
      "model_name": "LayoutModel",
      "state": {
       "height": "auto",
       "width": "auto"
      }
     },
     "9366d4dbea3043a48c8292be28c175d4": {
      "model_module": "ipysheet",
      "model_module_version": "~0.4.3",
      "model_name": "SheetModel",
      "state": {
       "column_headers": [
        "Tenor",
        "Bid",
        "Ask"
       ],
       "columns": 3,
       "layout": "IPY_MODEL_9f3d124e86874cee883ff120a4e00f20",
       "row_headers": false,
       "rows": 6
      }
     },
     "95c528df45644e03b21b560fc0a4f8ab": {
      "model_module": "ipysheet",
      "model_module_version": "~0.4.3",
      "model_name": "CellRangeModel",
      "state": {
       "_view_module": null,
       "_view_module_version": "",
       "column_end": 2,
       "column_start": 2,
       "row_end": 5,
       "row_start": 0,
       "squeeze_row": false,
       "type": "numeric",
       "value": [
        0.042,
        0.31,
        0.86,
        2.32,
        7.51,
        2.49
       ]
      }
     },
     "97fffe32d8764965b68a9980850247d4": {
      "model_module": "ipysheet",
      "model_module_version": "~0.4.3",
      "model_name": "CellRangeModel",
      "state": {
       "_view_module": null,
       "_view_module_version": "",
       "column_end": 2,
       "column_start": 2,
       "row_end": 5,
       "row_start": 0,
       "squeeze_row": false,
       "type": "numeric",
       "value": [
        0.23,
        1.57,
        6.91,
        21.64,
        48.44,
        95.41
       ]
      }
     },
     "987bbfc7b97843b0b558e3af2bc93d4a": {
      "model_module": "ipysheet",
      "model_module_version": "~0.4.3",
      "model_name": "SheetModel",
      "state": {
       "column_headers": [
        "Tenor",
        "Bid",
        "Ask"
       ],
       "columns": 3,
       "layout": "IPY_MODEL_5cb034fce4a0472f816ae3db91c679b6",
       "row_headers": false,
       "rows": 6
      }
     },
     "98c248c2e8334d27bc31fdec04a3c2d0": {
      "model_module": "ipysheet",
      "model_module_version": "~0.4.3",
      "model_name": "CellRangeModel",
      "state": {
       "_view_module": null,
       "_view_module_version": "",
       "column_end": 2,
       "column_start": 2,
       "row_end": 5,
       "row_start": 0,
       "squeeze_row": false,
       "type": "numeric",
       "value": [
        0.07,
        0.23,
        0.87,
        2.08,
        4,
        6.99
       ]
      }
     },
     "99b9cab0f2d842b59bfa300d45d23a76": {
      "model_module": "ipysheet",
      "model_module_version": "~0.4.3",
      "model_name": "SheetModel",
      "state": {
       "column_headers": [
        "Tenor",
        "Bid",
        "Ask"
       ],
       "columns": 3,
       "layout": "IPY_MODEL_d52cf47ff62a41c887089128ff950425",
       "row_headers": false,
       "rows": 6
      }
     },
     "9c67b629cd4d4f618a7c58e99a96debf": {
      "model_module": "@jupyter-widgets/base",
      "model_module_version": "1.2.0",
      "model_name": "LayoutModel",
      "state": {
       "height": "auto",
       "width": "auto"
      }
     },
     "9cce60fdeb4d4cb09d957ea0683ed4f3": {
      "model_module": "ipysheet",
      "model_module_version": "~0.4.3",
      "model_name": "CellRangeModel",
      "state": {
       "_view_module": null,
       "_view_module_version": "",
       "column_end": 0,
       "column_start": 0,
       "row_end": 5,
       "row_start": 0,
       "squeeze_row": false,
       "type": "text",
       "value": [
        "ON",
        "SW",
        "1M",
        "3M",
        "6M",
        "1Y"
       ]
      }
     },
     "9d33a2b6cfcf425b98d3ca2140f4f4ae": {
      "model_module": "@jupyter-widgets/base",
      "model_module_version": "1.2.0",
      "model_name": "LayoutModel",
      "state": {
       "height": "auto",
       "width": "auto"
      }
     },
     "9d7ac6a0032f4ffeb90f7e0c85854342": {
      "model_module": "ipysheet",
      "model_module_version": "~0.4.3",
      "model_name": "CellRangeModel",
      "state": {
       "_view_module": null,
       "_view_module_version": "",
       "row_end": 5,
       "row_start": 0,
       "squeeze_row": false,
       "type": "numeric",
       "value": [
        -0.015,
        -0.01,
        0.6,
        1.97,
        6.64,
        -0.52
       ]
      }
     },
     "9f3d124e86874cee883ff120a4e00f20": {
      "model_module": "@jupyter-widgets/base",
      "model_module_version": "1.2.0",
      "model_name": "LayoutModel",
      "state": {
       "height": "auto",
       "width": "auto"
      }
     },
     "9fad0eb52e7b41ea9f092f76482c39c9": {
      "model_module": "@jupyter-widgets/base",
      "model_module_version": "1.2.0",
      "model_name": "LayoutModel",
      "state": {
       "height": "auto",
       "width": "auto"
      }
     },
     "a11599706ae644d38e811af0df4423f0": {
      "model_module": "ipysheet",
      "model_module_version": "~0.4.3",
      "model_name": "CellRangeModel",
      "state": {
       "_view_module": null,
       "_view_module_version": "",
       "column_end": 2,
       "column_start": 2,
       "row_end": 5,
       "row_start": 0,
       "squeeze_row": false,
       "type": "numeric",
       "value": [
        0.23,
        1.57,
        6.91,
        21.64,
        48.44,
        95.41
       ]
      }
     },
     "a3182408904b474781093b3e2c2cfe90": {
      "model_module": "@jupyter-widgets/base",
      "model_module_version": "1.2.0",
      "model_name": "LayoutModel",
      "state": {
       "height": "auto",
       "width": "auto"
      }
     },
     "a370ce4a1c5c4a059eabf1892409efd2": {
      "model_module": "ipysheet",
      "model_module_version": "~0.4.3",
      "model_name": "CellRangeModel",
      "state": {
       "_view_module": null,
       "_view_module_version": "",
       "column_end": 2,
       "column_start": 2,
       "row_end": 5,
       "row_start": 0,
       "squeeze_row": false,
       "type": "numeric",
       "value": [
        0.23,
        1.57,
        6.91,
        21.64,
        48.44,
        95.41
       ]
      }
     },
     "a51a39b6b9a04a148f5e27313c7c00eb": {
      "model_module": "ipysheet",
      "model_module_version": "~0.4.3",
      "model_name": "SheetModel",
      "state": {
       "cells": [
        "IPY_MODEL_082b182b7f3a43b6b08a93e2505142e7",
        "IPY_MODEL_ec7d72ebbe34400fa75032af1c1bb5b5",
        "IPY_MODEL_a11599706ae644d38e811af0df4423f0"
       ],
       "column_headers": [
        "Tenor",
        "Bid",
        "Ask"
       ],
       "columns": 3,
       "layout": "IPY_MODEL_3d8a2b6bfaf643e08723f27bda1f2131",
       "row_headers": false,
       "rows": 6
      }
     },
     "a5c23fc0660f4292982509de5765d575": {
      "model_module": "@jupyter-widgets/base",
      "model_module_version": "1.2.0",
      "model_name": "LayoutModel",
      "state": {
       "height": "auto",
       "width": "auto"
      }
     },
     "a6ebbef870bb4985b9528aa5dedf7a70": {
      "model_module": "@jupyter-widgets/base",
      "model_module_version": "1.2.0",
      "model_name": "LayoutModel",
      "state": {
       "height": "auto",
       "width": "auto"
      }
     },
     "a7db0dc6ba0d4e09a6ab006cda7eb23c": {
      "model_module": "@jupyter-widgets/base",
      "model_module_version": "1.2.0",
      "model_name": "LayoutModel",
      "state": {
       "height": "auto",
       "width": "auto"
      }
     },
     "a8d16cd09e9e40218306901e0bc9bb5f": {
      "model_module": "ipysheet",
      "model_module_version": "~0.4.3",
      "model_name": "SheetModel",
      "state": {
       "column_headers": [
        "Tenor",
        "Bid",
        "Ask"
       ],
       "columns": 3,
       "layout": "IPY_MODEL_be2dc235ba564e0f96ec692b06c11a63",
       "row_headers": false,
       "rows": 6
      }
     },
     "aaf8643f82d5436eb973ebda1dd1f0c0": {
      "model_module": "@jupyter-widgets/base",
      "model_module_version": "1.2.0",
      "model_name": "LayoutModel",
      "state": {
       "height": "auto",
       "width": "auto"
      }
     },
     "aafc0c7af73e445190fdf9c0d5cdc7bb": {
      "model_module": "ipysheet",
      "model_module_version": "~0.4.3",
      "model_name": "SheetModel",
      "state": {
       "column_headers": [
        "Tenor",
        "Bid",
        "Ask"
       ],
       "columns": 3,
       "layout": "IPY_MODEL_7750c955c7004b9fae3d51f8f24f4c12",
       "row_headers": false,
       "rows": 6
      }
     },
     "ac8c60880c4040399373efab43e4793b": {
      "model_module": "@jupyter-widgets/base",
      "model_module_version": "1.2.0",
      "model_name": "LayoutModel",
      "state": {
       "height": "auto",
       "width": "auto"
      }
     },
     "b00eafae64d74e299b4ed217cec649fe": {
      "model_module": "ipysheet",
      "model_module_version": "~0.4.3",
      "model_name": "SheetModel",
      "state": {
       "column_headers": [
        "Tenor",
        "Bid",
        "Ask"
       ],
       "columns": 3,
       "layout": "IPY_MODEL_ac8c60880c4040399373efab43e4793b",
       "row_headers": false,
       "rows": 6
      }
     },
     "b0513015b59945f5923f283cf8c4f4b5": {
      "model_module": "ipysheet",
      "model_module_version": "~0.4.3",
      "model_name": "SheetModel",
      "state": {
       "column_headers": [
        "Tenor",
        "Bid",
        "Ask"
       ],
       "columns": 3,
       "layout": "IPY_MODEL_6935ff1aeb384154bf0778ea02e903dd",
       "row_headers": false,
       "rows": 6
      }
     },
     "b140100eb1864afab7caa407975b3cf1": {
      "model_module": "ipysheet",
      "model_module_version": "~0.4.3",
      "model_name": "CellRangeModel",
      "state": {
       "_view_module": null,
       "_view_module_version": "",
       "row_end": 5,
       "row_start": 0,
       "squeeze_row": false,
       "type": "numeric",
       "value": [
        -0.03,
        0.13,
        0.67,
        1.88,
        3.5,
        5.99
       ]
      }
     },
     "b38ead0b4c434af69ce520e8aab5ee01": {
      "model_module": "ipysheet",
      "model_module_version": "~0.4.3",
      "model_name": "SheetModel",
      "state": {
       "column_headers": [
        "Tenor",
        "Bid",
        "Ask"
       ],
       "columns": 3,
       "layout": "IPY_MODEL_b4f135bc064842c986697f742ca3d53a",
       "row_headers": false,
       "rows": 6
      }
     },
     "b4f135bc064842c986697f742ca3d53a": {
      "model_module": "@jupyter-widgets/base",
      "model_module_version": "1.2.0",
      "model_name": "LayoutModel",
      "state": {
       "height": "auto",
       "width": "auto"
      }
     },
     "b54d928552a0422181f09c01ee02b8a9": {
      "model_module": "@jupyter-widgets/base",
      "model_module_version": "1.2.0",
      "model_name": "LayoutModel",
      "state": {
       "height": "auto",
       "width": "auto"
      }
     },
     "b63bbb5f20c748ec833512346c0a50fd": {
      "model_module": "@jupyter-widgets/base",
      "model_module_version": "1.2.0",
      "model_name": "LayoutModel",
      "state": {
       "height": "auto",
       "width": "auto"
      }
     },
     "b65af1cc8ecc416f8df44b2ad29fa9cc": {
      "model_module": "ipysheet",
      "model_module_version": "~0.4.3",
      "model_name": "CellRangeModel",
      "state": {
       "_view_module": null,
       "_view_module_version": "",
       "row_end": 5,
       "row_start": 0,
       "squeeze_row": false,
       "type": "numeric",
       "value": [
        -0.03,
        0.13,
        0.67,
        1.88,
        3.5,
        5.99
       ]
      }
     },
     "b6789f97812243798a70b114b5c75234": {
      "model_module": "@jupyter-widgets/base",
      "model_module_version": "1.2.0",
      "model_name": "LayoutModel",
      "state": {
       "height": "auto",
       "width": "auto"
      }
     },
     "b732b8b1cb944408952e3bc9c82288da": {
      "model_module": "ipysheet",
      "model_module_version": "~0.4.3",
      "model_name": "SheetModel",
      "state": {
       "column_headers": [
        "Tenor",
        "Bid",
        "Ask"
       ],
       "columns": 3,
       "layout": "IPY_MODEL_b6789f97812243798a70b114b5c75234",
       "row_headers": false,
       "rows": 6
      }
     },
     "b76b72c9a09f46c78909c83659b84893": {
      "model_module": "ipysheet",
      "model_module_version": "~0.4.3",
      "model_name": "CellRangeModel",
      "state": {
       "_view_module": null,
       "_view_module_version": "",
       "column_end": 2,
       "column_start": 2,
       "row_end": 5,
       "row_start": 0,
       "squeeze_row": false,
       "type": "numeric",
       "value": [
        0.07,
        0.23,
        0.87,
        2.08,
        4,
        6.99
       ]
      }
     },
     "b7fbbab82fb748148a09721d3600296c": {
      "model_module": "ipysheet",
      "model_module_version": "~0.4.3",
      "model_name": "SheetModel",
      "state": {
       "cells": [
        "IPY_MODEL_d8f39b9eca994d67b8d882822c988d92",
        "IPY_MODEL_f0783c05ffab47e8b9078368641b31a5",
        "IPY_MODEL_97fffe32d8764965b68a9980850247d4"
       ],
       "column_headers": [
        "Tenor",
        "Bid",
        "Ask"
       ],
       "columns": 3,
       "layout": "IPY_MODEL_54a276b4374b4c8d96c3a3c9d3496811",
       "row_headers": false,
       "rows": 6
      }
     },
     "b9c422f3f25f463db99b9bee66e603f1": {
      "model_module": "ipysheet",
      "model_module_version": "~0.4.3",
      "model_name": "SheetModel",
      "state": {
       "column_headers": [
        "Tenor",
        "Bid",
        "Ask"
       ],
       "columns": 3,
       "layout": "IPY_MODEL_c717c737f9cf4e76ac8b3cc86bd1c571",
       "row_headers": false,
       "rows": 6
      }
     },
     "ba0385db4f1a45a7a0c1a55e60561660": {
      "model_module": "ipysheet",
      "model_module_version": "~0.4.3",
      "model_name": "SheetModel",
      "state": {
       "cells": [
        "IPY_MODEL_5ec57cac990147448ec3dd5324efcc3b",
        "IPY_MODEL_408c2d16c88d42d397594d0d4525fb25",
        "IPY_MODEL_7e50a782e9414049a21f95d0dd2a3100"
       ],
       "column_headers": [
        "Tenor",
        "Bid",
        "Ask"
       ],
       "columns": 3,
       "layout": "IPY_MODEL_ff9aa28948184651a2972961f6b8ecdd",
       "row_headers": false,
       "rows": 6
      }
     },
     "bad845a824ac4f68a787d092bf4a7e60": {
      "model_module": "ipysheet",
      "model_module_version": "~0.4.3",
      "model_name": "SheetModel",
      "state": {
       "cells": [
        "IPY_MODEL_5e45ddecb646439dbf3f2e6ced5b648a",
        "IPY_MODEL_7a7de2a5066d43548a78e31b4d70c2e2",
        "IPY_MODEL_bbbf50eeaafd463ab11678d826ff1cef"
       ],
       "column_headers": [
        "Tenor",
        "Bid",
        "Ask"
       ],
       "columns": 3,
       "layout": "IPY_MODEL_200c4d19a3ea49408fbe6cc6eb0e3b0a",
       "row_headers": false,
       "rows": 6
      }
     },
     "bae5e9fce324479a8d04a046c4dc5962": {
      "model_module": "ipysheet",
      "model_module_version": "~0.4.3",
      "model_name": "CellRangeModel",
      "state": {
       "_view_module": null,
       "_view_module_version": "",
       "row_end": 5,
       "row_start": 0,
       "squeeze_row": false,
       "type": "numeric",
       "value": [
        -0.101,
        0.13,
        0.87,
        3.02,
        7.07,
        9.79
       ]
      }
     },
     "bbbf50eeaafd463ab11678d826ff1cef": {
      "model_module": "ipysheet",
      "model_module_version": "~0.4.3",
      "model_name": "CellRangeModel",
      "state": {
       "_view_module": null,
       "_view_module_version": "",
       "column_end": 2,
       "column_start": 2,
       "row_end": 5,
       "row_start": 0,
       "squeeze_row": false,
       "type": "numeric",
       "value": [
        0.07,
        0.23,
        0.87,
        2.08,
        4,
        6.99
       ]
      }
     },
     "bbd18770348d4d2094c5c5eedc676b3e": {
      "model_module": "ipysheet",
      "model_module_version": "~0.4.3",
      "model_name": "CellRangeModel",
      "state": {
       "_view_module": null,
       "_view_module_version": "",
       "column_end": 0,
       "column_start": 0,
       "row_end": 5,
       "row_start": 0,
       "squeeze_row": false,
       "type": "text",
       "value": [
        "ON",
        "SW",
        "1M",
        "3M",
        "6M",
        "1Y"
       ]
      }
     },
     "bbf97400509d409791ab6c4d4d8a6343": {
      "model_module": "ipysheet",
      "model_module_version": "~0.4.3",
      "model_name": "SheetModel",
      "state": {
       "cells": [
        "IPY_MODEL_6ef16e2521864685a9135977c866a7d4",
        "IPY_MODEL_20f5ade3823b47c788c4105548bc5f44",
        "IPY_MODEL_6ca78bd102904ce28015ceceaa7f8198"
       ],
       "column_headers": [
        "Tenor",
        "Bid",
        "Ask"
       ],
       "columns": 3,
       "layout": "IPY_MODEL_9fad0eb52e7b41ea9f092f76482c39c9",
       "row_headers": false,
       "rows": 6
      }
     },
     "bcd7c86b602e4262a5c1ec3bd62c9450": {
      "model_module": "@jupyter-widgets/base",
      "model_module_version": "1.2.0",
      "model_name": "LayoutModel",
      "state": {
       "height": "auto",
       "width": "auto"
      }
     },
     "bda64d025da7401d967a22a7d00c092d": {
      "model_module": "@jupyter-widgets/base",
      "model_module_version": "1.2.0",
      "model_name": "LayoutModel",
      "state": {
       "height": "auto",
       "width": "auto"
      }
     },
     "be2dc235ba564e0f96ec692b06c11a63": {
      "model_module": "@jupyter-widgets/base",
      "model_module_version": "1.2.0",
      "model_name": "LayoutModel",
      "state": {
       "height": "auto",
       "width": "auto"
      }
     },
     "bf8839d33ee244a9864a91d5d3fba1f0": {
      "model_module": "ipysheet",
      "model_module_version": "~0.4.3",
      "model_name": "SheetModel",
      "state": {
       "cells": [
        "IPY_MODEL_1a3371e773fc48dbaf403820a3b47853",
        "IPY_MODEL_4ab4042b6eb44fc6a38c5dde4893adf2",
        "IPY_MODEL_b76b72c9a09f46c78909c83659b84893"
       ],
       "column_headers": [
        "Tenor",
        "Bid",
        "Ask"
       ],
       "columns": 3,
       "layout": "IPY_MODEL_f2da528e507a4e4aa7d12b7c2e2ba3f9",
       "row_headers": false,
       "rows": 6
      }
     },
     "bfc51c27efd34f7aa22d764e3bc581a3": {
      "model_module": "ipysheet",
      "model_module_version": "~0.4.3",
      "model_name": "CellRangeModel",
      "state": {
       "_view_module": null,
       "_view_module_version": "",
       "column_end": 2,
       "column_start": 2,
       "row_end": 5,
       "row_start": 0,
       "squeeze_row": false,
       "type": "numeric",
       "value": [
        0.07,
        0.23,
        0.87,
        2.08,
        4,
        6.99
       ]
      }
     },
     "bfce7dda50a34e8e8f2300f26f338654": {
      "model_module": "ipysheet",
      "model_module_version": "~0.4.3",
      "model_name": "SheetModel",
      "state": {
       "column_headers": [
        "Tenor",
        "Bid",
        "Ask"
       ],
       "columns": 3,
       "layout": "IPY_MODEL_cdca426f35b7489fa65185f78bfa629d",
       "row_headers": false,
       "rows": 6
      }
     },
     "c046b36496d04a39882a2f3e26ca61ab": {
      "model_module": "@jupyter-widgets/base",
      "model_module_version": "1.2.0",
      "model_name": "LayoutModel",
      "state": {
       "height": "auto",
       "width": "auto"
      }
     },
     "c1928c53722e4efbb619c062321cab45": {
      "model_module": "@jupyter-widgets/base",
      "model_module_version": "1.2.0",
      "model_name": "LayoutModel",
      "state": {
       "height": "auto",
       "width": "auto"
      }
     },
     "c319f63038db4f199c3cede4121e4298": {
      "model_module": "ipysheet",
      "model_module_version": "~0.4.3",
      "model_name": "SheetModel",
      "state": {
       "cells": [
        "IPY_MODEL_71929abb59dd4f458316800e225f249c",
        "IPY_MODEL_b65af1cc8ecc416f8df44b2ad29fa9cc",
        "IPY_MODEL_5eea3eb4d31c43fd8c7815243ab6dac8"
       ],
       "column_headers": [
        "Tenor",
        "Bid",
        "Ask"
       ],
       "columns": 3,
       "layout": "IPY_MODEL_761a4ebc5bd34dc68f8b2ce466b80728",
       "row_headers": false,
       "rows": 6
      }
     },
     "c43e6fc7f44941b3aeaca0dd5ab3cbe1": {
      "model_module": "@jupyter-widgets/base",
      "model_module_version": "1.2.0",
      "model_name": "LayoutModel",
      "state": {
       "height": "auto",
       "width": "auto"
      }
     },
     "c47232e64bb34b83958119c9c7ff7d7f": {
      "model_module": "ipysheet",
      "model_module_version": "~0.4.3",
      "model_name": "SheetModel",
      "state": {
       "column_headers": [
        "Tenor",
        "Bid",
        "Ask"
       ],
       "columns": 3,
       "layout": "IPY_MODEL_855ed5e6aaee428eae8b80d6312b4252",
       "row_headers": false,
       "rows": 6
      }
     },
     "c49498275f614e1197aba3240e525ab1": {
      "model_module": "ipysheet",
      "model_module_version": "~0.4.3",
      "model_name": "SheetModel",
      "state": {
       "column_headers": [
        "Tenor",
        "Bid",
        "Ask"
       ],
       "columns": 3,
       "layout": "IPY_MODEL_c757b4fb3ded44b49aae68d3cdfa9c15",
       "row_headers": false,
       "rows": 6
      }
     },
     "c5072d68fb354b4cbfc14c15d9e03113": {
      "model_module": "ipysheet",
      "model_module_version": "~0.4.3",
      "model_name": "SheetModel",
      "state": {
       "cells": [
        "IPY_MODEL_bbd18770348d4d2094c5c5eedc676b3e",
        "IPY_MODEL_51b8381857d14e9da66267e3a5b83c49",
        "IPY_MODEL_20108423a74f415797dd80f564ef1d9c"
       ],
       "column_headers": [
        "Tenor",
        "Bid",
        "Ask"
       ],
       "columns": 3,
       "layout": "IPY_MODEL_e02ad4c8012344889afb3455a2e5edfc",
       "row_headers": false,
       "rows": 6
      }
     },
     "c717c737f9cf4e76ac8b3cc86bd1c571": {
      "model_module": "@jupyter-widgets/base",
      "model_module_version": "1.2.0",
      "model_name": "LayoutModel",
      "state": {
       "height": "auto",
       "width": "auto"
      }
     },
     "c757b4fb3ded44b49aae68d3cdfa9c15": {
      "model_module": "@jupyter-widgets/base",
      "model_module_version": "1.2.0",
      "model_name": "LayoutModel",
      "state": {
       "height": "auto",
       "width": "auto"
      }
     },
     "c7d9f02118464dacba91f868c010fb1f": {
      "model_module": "ipysheet",
      "model_module_version": "~0.4.3",
      "model_name": "CellRangeModel",
      "state": {
       "_view_module": null,
       "_view_module_version": "",
       "column_end": 0,
       "column_start": 0,
       "row_end": 5,
       "row_start": 0,
       "squeeze_row": false,
       "type": "text",
       "value": [
        "ON",
        "SW",
        "1M",
        "3M",
        "6M",
        "1Y"
       ]
      }
     },
     "ca7ad76c89d8465b8f1ceebc8dae2a16": {
      "model_module": "ipysheet",
      "model_module_version": "~0.4.3",
      "model_name": "CellRangeModel",
      "state": {
       "_view_module": null,
       "_view_module_version": "",
       "column_end": 2,
       "column_start": 2,
       "row_end": 5,
       "row_start": 0,
       "squeeze_row": false,
       "type": "numeric",
       "value": [
        0.07,
        0.23,
        0.87,
        2.08,
        4,
        6.99
       ]
      }
     },
     "ca87070cb95947fe82afc9079f24beb5": {
      "model_module": "ipysheet",
      "model_module_version": "~0.4.3",
      "model_name": "SheetModel",
      "state": {
       "column_headers": [
        "Tenor",
        "Bid",
        "Ask"
       ],
       "columns": 3,
       "layout": "IPY_MODEL_ce9cb6fdf8f94aa28578942265124a9c",
       "row_headers": false,
       "rows": 6
      }
     },
     "cc79243056a44025a9403303146706a6": {
      "model_module": "@jupyter-widgets/base",
      "model_module_version": "1.2.0",
      "model_name": "LayoutModel",
      "state": {
       "height": "auto",
       "width": "auto"
      }
     },
     "cdca426f35b7489fa65185f78bfa629d": {
      "model_module": "@jupyter-widgets/base",
      "model_module_version": "1.2.0",
      "model_name": "LayoutModel",
      "state": {
       "height": "auto",
       "width": "auto"
      }
     },
     "ce9cb6fdf8f94aa28578942265124a9c": {
      "model_module": "@jupyter-widgets/base",
      "model_module_version": "1.2.0",
      "model_name": "LayoutModel",
      "state": {
       "height": "auto",
       "width": "auto"
      }
     },
     "d10aff20f50448bfa91f26d541cfb745": {
      "model_module": "ipysheet",
      "model_module_version": "~0.4.3",
      "model_name": "SheetModel",
      "state": {
       "column_headers": [
        "Tenor",
        "Bid",
        "Ask"
       ],
       "columns": 3,
       "layout": "IPY_MODEL_87844c2d6a5d4029ba3ddb559e1f4d26",
       "row_headers": false,
       "rows": 6
      }
     },
     "d13eb693bb2f4268a6e3512999c9b81c": {
      "model_module": "ipysheet",
      "model_module_version": "~0.4.3",
      "model_name": "SheetModel",
      "state": {
       "column_headers": [
        "Tenor",
        "Bid",
        "Ask"
       ],
       "columns": 3,
       "layout": "IPY_MODEL_b54d928552a0422181f09c01ee02b8a9",
       "row_headers": false,
       "rows": 6
      }
     },
     "d1553cdf9a4649368c6854d8d66f7705": {
      "model_module": "ipysheet",
      "model_module_version": "~0.4.3",
      "model_name": "SheetModel",
      "state": {
       "column_headers": [
        "Tenor",
        "Bid",
        "Ask"
       ],
       "columns": 3,
       "layout": "IPY_MODEL_aaf8643f82d5436eb973ebda1dd1f0c0",
       "row_headers": false,
       "rows": 6
      }
     },
     "d1b0e0d04bf744e6a0b797822ae0c47d": {
      "model_module": "ipysheet",
      "model_module_version": "~0.4.3",
      "model_name": "CellRangeModel",
      "state": {
       "_view_module": null,
       "_view_module_version": "",
       "row_end": 5,
       "row_start": 0,
       "squeeze_row": false,
       "type": "numeric",
       "value": [
        -0.25,
        -0.56,
        -2.39,
        -8.13,
        -22.73,
        -44.71
       ]
      }
     },
     "d2478fbf912f40ca8e0f5fae45af3ff5": {
      "model_module": "ipysheet",
      "model_module_version": "~0.4.3",
      "model_name": "CellRangeModel",
      "state": {
       "_view_module": null,
       "_view_module_version": "",
       "column_end": 0,
       "column_start": 0,
       "row_end": 5,
       "row_start": 0,
       "squeeze_row": false,
       "type": "text",
       "value": [
        "ON",
        "SW",
        "1M",
        "3M",
        "6M",
        "1Y"
       ]
      }
     },
     "d25bc54ec5724b8a803abc11bf2f40ee": {
      "model_module": "ipysheet",
      "model_module_version": "~0.4.3",
      "model_name": "SheetModel",
      "state": {
       "cells": [
        "IPY_MODEL_07abb8db1dd3499c8b98d8b3dcc8dcd4",
        "IPY_MODEL_e2eea5a42001472887c812b3b2177b13",
        "IPY_MODEL_259da08e1717417a9ed41a852d247959"
       ],
       "column_headers": [
        "Tenor",
        "Bid",
        "Ask"
       ],
       "columns": 3,
       "layout": "IPY_MODEL_678fe9af4ea6416fbc2e84494ab11d4e",
       "row_headers": false,
       "rows": 6
      }
     },
     "d387a707a35243e281342a60c725244c": {
      "model_module": "ipysheet",
      "model_module_version": "~0.4.3",
      "model_name": "SheetModel",
      "state": {
       "column_headers": [
        "Tenor",
        "Bid",
        "Ask"
       ],
       "columns": 3,
       "layout": "IPY_MODEL_e8d6b8f0c71e46388ff1540465b3dba1",
       "row_headers": false,
       "rows": 6
      }
     },
     "d52cf47ff62a41c887089128ff950425": {
      "model_module": "@jupyter-widgets/base",
      "model_module_version": "1.2.0",
      "model_name": "LayoutModel",
      "state": {
       "height": "auto",
       "width": "auto"
      }
     },
     "d5c45d4d59564d9fa9eafb8ddc46db91": {
      "model_module": "ipysheet",
      "model_module_version": "~0.4.3",
      "model_name": "SheetModel",
      "state": {
       "column_headers": [
        "Tenor",
        "Bid",
        "Ask"
       ],
       "columns": 3,
       "layout": "IPY_MODEL_06c8854eb1704fe793dcf46a751b1a2e",
       "row_headers": false,
       "rows": 6
      }
     },
     "d63d515a697247c1b98924704660f0fe": {
      "model_module": "ipysheet",
      "model_module_version": "~0.4.3",
      "model_name": "SheetModel",
      "state": {
       "column_headers": [
        "Tenor",
        "Bid",
        "Ask"
       ],
       "columns": 3,
       "layout": "IPY_MODEL_e90d8ff595c14f97a07b9a48a4cbd759",
       "row_headers": false,
       "rows": 6
      }
     },
     "d7e82bf5a00a48b295bd0f50121859c5": {
      "model_module": "@jupyter-widgets/base",
      "model_module_version": "1.2.0",
      "model_name": "LayoutModel",
      "state": {
       "height": "auto",
       "width": "auto"
      }
     },
     "d8068c88f98e4e089de6af2295950652": {
      "model_module": "@jupyter-widgets/base",
      "model_module_version": "1.2.0",
      "model_name": "LayoutModel",
      "state": {
       "height": "auto",
       "width": "auto"
      }
     },
     "d8a50fd4105644cbb90b81678fbae77c": {
      "model_module": "ipysheet",
      "model_module_version": "~0.4.3",
      "model_name": "CellRangeModel",
      "state": {
       "_view_module": null,
       "_view_module_version": "",
       "column_end": 2,
       "column_start": 2,
       "row_end": 5,
       "row_start": 0,
       "squeeze_row": false,
       "type": "numeric",
       "value": [
        0.23,
        1.57,
        6.91,
        21.64,
        48.44,
        95.41
       ]
      }
     },
     "d8f39b9eca994d67b8d882822c988d92": {
      "model_module": "ipysheet",
      "model_module_version": "~0.4.3",
      "model_name": "CellRangeModel",
      "state": {
       "_view_module": null,
       "_view_module_version": "",
       "column_end": 0,
       "column_start": 0,
       "row_end": 5,
       "row_start": 0,
       "squeeze_row": false,
       "type": "text",
       "value": [
        "ON",
        "SW",
        "1M",
        "3M",
        "6M",
        "1Y"
       ]
      }
     },
     "d94e1fc3e2d14c7094a37de87fbbd140": {
      "model_module": "@jupyter-widgets/base",
      "model_module_version": "1.2.0",
      "model_name": "LayoutModel",
      "state": {
       "height": "auto",
       "width": "auto"
      }
     },
     "da0f86f6d6bc48d09b1a045d81a8c74b": {
      "model_module": "ipysheet",
      "model_module_version": "~0.4.3",
      "model_name": "CellRangeModel",
      "state": {
       "_view_module": null,
       "_view_module_version": "",
       "column_end": 0,
       "column_start": 0,
       "row_end": 5,
       "row_start": 0,
       "squeeze_row": false,
       "type": "text",
       "value": [
        "ON",
        "SW",
        "1M",
        "3M",
        "6M",
        "1Y"
       ]
      }
     },
     "da5ab3c018aa4b14bb910c583c651499": {
      "model_module": "@jupyter-widgets/base",
      "model_module_version": "1.2.0",
      "model_name": "LayoutModel",
      "state": {
       "height": "auto",
       "width": "auto"
      }
     },
     "db7f712dc0b3419ca6d2a82986c9d23a": {
      "model_module": "@jupyter-widgets/base",
      "model_module_version": "1.2.0",
      "model_name": "LayoutModel",
      "state": {
       "height": "auto",
       "width": "auto"
      }
     },
     "dc2de94e81c448459e7ad987be9cb6ab": {
      "model_module": "ipysheet",
      "model_module_version": "~0.4.3",
      "model_name": "SheetModel",
      "state": {
       "column_headers": [
        "Tenor",
        "Bid",
        "Ask"
       ],
       "columns": 3,
       "layout": "IPY_MODEL_317f6bceb74e41ce90f48d015fe6efb0",
       "row_headers": false,
       "rows": 6
      }
     },
     "dc3bca0eb3a04f1ba0d8cd7c80ad4be9": {
      "model_module": "ipysheet",
      "model_module_version": "~0.4.3",
      "model_name": "SheetModel",
      "state": {
       "column_headers": [
        "Tenor",
        "Bid",
        "Ask"
       ],
       "columns": 3,
       "layout": "IPY_MODEL_69f6b6ed6997464b8ddbac1b6e7305ec",
       "row_headers": false,
       "rows": 6
      }
     },
     "ddc52aa14d3a44778427a9922faf992a": {
      "model_module": "@jupyter-widgets/base",
      "model_module_version": "1.2.0",
      "model_name": "LayoutModel",
      "state": {
       "height": "auto",
       "width": "auto"
      }
     },
     "e02ad4c8012344889afb3455a2e5edfc": {
      "model_module": "@jupyter-widgets/base",
      "model_module_version": "1.2.0",
      "model_name": "LayoutModel",
      "state": {
       "height": "auto",
       "width": "auto"
      }
     },
     "e05057a01a70494c8ebea87401f7dfbf": {
      "model_module": "@jupyter-widgets/base",
      "model_module_version": "1.2.0",
      "model_name": "LayoutModel",
      "state": {
       "height": "auto",
       "width": "auto"
      }
     },
     "e0eef77a510f4c62840af94eee58a542": {
      "model_module": "@jupyter-widgets/base",
      "model_module_version": "1.2.0",
      "model_name": "LayoutModel",
      "state": {
       "height": "auto",
       "width": "auto"
      }
     },
     "e0f635afb790496db879044351f309b0": {
      "model_module": "ipysheet",
      "model_module_version": "~0.4.3",
      "model_name": "CellRangeModel",
      "state": {
       "_view_module": null,
       "_view_module_version": "",
       "column_end": 0,
       "column_start": 0,
       "row_end": 5,
       "row_start": 0,
       "squeeze_row": false,
       "type": "text",
       "value": [
        "ON",
        "SW",
        "1M",
        "3M",
        "6M",
        "1Y"
       ]
      }
     },
     "e2eea5a42001472887c812b3b2177b13": {
      "model_module": "ipysheet",
      "model_module_version": "~0.4.3",
      "model_name": "CellRangeModel",
      "state": {
       "_view_module": null,
       "_view_module_version": "",
       "row_end": 5,
       "row_start": 0,
       "squeeze_row": false,
       "type": "numeric",
       "value": [
        -0.101,
        0.13,
        0.87,
        3.02,
        7.07,
        9.79
       ]
      }
     },
     "e39c4473b104464d8e856c5c87c9f135": {
      "model_module": "@jupyter-widgets/base",
      "model_module_version": "1.2.0",
      "model_name": "LayoutModel",
      "state": {
       "height": "auto",
       "width": "auto"
      }
     },
     "e5ebf62fa3b24b0abb9d7c7b219e338c": {
      "model_module": "ipysheet",
      "model_module_version": "~0.4.3",
      "model_name": "SheetModel",
      "state": {
       "column_headers": [
        "Tenor",
        "Bid",
        "Ask"
       ],
       "columns": 3,
       "layout": "IPY_MODEL_70596ef57d944231a22795e589cefd90",
       "row_headers": false,
       "rows": 6
      }
     },
     "e676f86c2e8049be9949ac2a9dcc7f1f": {
      "model_module": "@jupyter-widgets/base",
      "model_module_version": "1.2.0",
      "model_name": "LayoutModel",
      "state": {
       "height": "auto",
       "width": "auto"
      }
     },
     "e81a7d60d794488b876f2c3af5d95efe": {
      "model_module": "@jupyter-widgets/base",
      "model_module_version": "1.2.0",
      "model_name": "LayoutModel",
      "state": {
       "height": "auto",
       "width": "auto"
      }
     },
     "e8b9f834f0a84541937773ad0ecc97a6": {
      "model_module": "ipysheet",
      "model_module_version": "~0.4.3",
      "model_name": "CellRangeModel",
      "state": {
       "_view_module": null,
       "_view_module_version": "",
       "column_end": 2,
       "column_start": 2,
       "row_end": 5,
       "row_start": 0,
       "squeeze_row": false,
       "type": "numeric",
       "value": [
        0.07,
        0.23,
        0.87,
        2.08,
        4,
        6.99
       ]
      }
     },
     "e8d6b8f0c71e46388ff1540465b3dba1": {
      "model_module": "@jupyter-widgets/base",
      "model_module_version": "1.2.0",
      "model_name": "LayoutModel",
      "state": {
       "height": "auto",
       "width": "auto"
      }
     },
     "e8e95a9577cf4069b9c96d5074f22921": {
      "model_module": "ipysheet",
      "model_module_version": "~0.4.3",
      "model_name": "SheetModel",
      "state": {
       "column_headers": [
        "Tenor",
        "Bid",
        "Ask"
       ],
       "columns": 3,
       "layout": "IPY_MODEL_cc79243056a44025a9403303146706a6",
       "row_headers": false,
       "rows": 6
      }
     },
     "e90d8ff595c14f97a07b9a48a4cbd759": {
      "model_module": "@jupyter-widgets/base",
      "model_module_version": "1.2.0",
      "model_name": "LayoutModel",
      "state": {
       "height": "auto",
       "width": "auto"
      }
     },
     "ea100badbf64476296083ac9816997e5": {
      "model_module": "ipysheet",
      "model_module_version": "~0.4.3",
      "model_name": "CellRangeModel",
      "state": {
       "_view_module": null,
       "_view_module_version": "",
       "column_end": 0,
       "column_start": 0,
       "row_end": 5,
       "row_start": 0,
       "squeeze_row": false,
       "type": "text",
       "value": [
        "ON",
        "SW",
        "1M",
        "3M",
        "6M",
        "1Y"
       ]
      }
     },
     "ec1111e1044e44979994910c81341991": {
      "model_module": "@jupyter-widgets/base",
      "model_module_version": "1.2.0",
      "model_name": "LayoutModel",
      "state": {
       "height": "auto",
       "width": "auto"
      }
     },
     "ec7d72ebbe34400fa75032af1c1bb5b5": {
      "model_module": "ipysheet",
      "model_module_version": "~0.4.3",
      "model_name": "CellRangeModel",
      "state": {
       "_view_module": null,
       "_view_module_version": "",
       "row_end": 5,
       "row_start": 0,
       "squeeze_row": false,
       "type": "numeric",
       "value": [
        0.19,
        1.49,
        6.76,
        21.44,
        47.45,
        93.91
       ]
      }
     },
     "ecd69ae2e0eb496eac9a4f304b80e68f": {
      "model_module": "ipysheet",
      "model_module_version": "~0.4.3",
      "model_name": "SheetModel",
      "state": {
       "column_headers": [
        "Tenor",
        "Bid",
        "Ask"
       ],
       "columns": 3,
       "layout": "IPY_MODEL_6b648fdebca7411894ec69a48c6a46bf",
       "row_headers": false,
       "rows": 6
      }
     },
     "ed56176c1b6b4b94a7f98d03a642f464": {
      "model_module": "ipysheet",
      "model_module_version": "~0.4.3",
      "model_name": "SheetModel",
      "state": {
       "column_headers": [
        "Tenor",
        "Bid",
        "Ask"
       ],
       "columns": 3,
       "layout": "IPY_MODEL_03be599af62540aa8b16ebe0dd3eb6d4",
       "row_headers": false,
       "rows": 6
      }
     },
     "ef7e15601ff146f184a06cd88072a387": {
      "model_module": "ipysheet",
      "model_module_version": "~0.4.3",
      "model_name": "CellRangeModel",
      "state": {
       "_view_module": null,
       "_view_module_version": "",
       "row_end": 5,
       "row_start": 0,
       "squeeze_row": false,
       "type": "numeric",
       "value": [
        -0.25,
        -0.56,
        -2.39,
        -8.13,
        -22.73,
        -44.71
       ]
      }
     },
     "eff0e874f32740528fb8370a6aa3cac6": {
      "model_module": "@jupyter-widgets/base",
      "model_module_version": "1.2.0",
      "model_name": "LayoutModel",
      "state": {
       "height": "auto",
       "width": "auto"
      }
     },
     "f0783c05ffab47e8b9078368641b31a5": {
      "model_module": "ipysheet",
      "model_module_version": "~0.4.3",
      "model_name": "CellRangeModel",
      "state": {
       "_view_module": null,
       "_view_module_version": "",
       "row_end": 5,
       "row_start": 0,
       "squeeze_row": false,
       "type": "numeric",
       "value": [
        0.19,
        1.49,
        6.76,
        21.44,
        47.45,
        93.91
       ]
      }
     },
     "f144c840908b437fa5c95aa2cedf5cdc": {
      "model_module": "ipysheet",
      "model_module_version": "~0.4.3",
      "model_name": "CellRangeModel",
      "state": {
       "_view_module": null,
       "_view_module_version": "",
       "row_end": 5,
       "row_start": 0,
       "squeeze_row": false,
       "type": "numeric",
       "value": [
        0.19,
        1.49,
        6.76,
        21.44,
        47.45,
        93.91
       ]
      }
     },
     "f25fb2f5b75040af9d1f6564edd29c83": {
      "model_module": "@jupyter-widgets/base",
      "model_module_version": "1.2.0",
      "model_name": "LayoutModel",
      "state": {
       "height": "auto",
       "width": "auto"
      }
     },
     "f29868ca2e69400bba6e47d9492b3d46": {
      "model_module": "ipysheet",
      "model_module_version": "~0.4.3",
      "model_name": "CellRangeModel",
      "state": {
       "_view_module": null,
       "_view_module_version": "",
       "column_end": 2,
       "column_start": 2,
       "row_end": 5,
       "row_start": 0,
       "squeeze_row": false,
       "type": "numeric",
       "value": [
        0.07,
        0.23,
        0.87,
        2.08,
        4,
        6.99
       ]
      }
     },
     "f2da528e507a4e4aa7d12b7c2e2ba3f9": {
      "model_module": "@jupyter-widgets/base",
      "model_module_version": "1.2.0",
      "model_name": "LayoutModel",
      "state": {
       "height": "auto",
       "width": "auto"
      }
     },
     "f2ee01ba3e6e44c1baa237ed443fa7c4": {
      "model_module": "ipysheet",
      "model_module_version": "~0.4.3",
      "model_name": "CellRangeModel",
      "state": {
       "_view_module": null,
       "_view_module_version": "",
       "row_end": 5,
       "row_start": 0,
       "squeeze_row": false,
       "type": "numeric",
       "value": [
        0.19,
        1.49,
        6.76,
        21.44,
        47.45,
        93.91
       ]
      }
     },
     "f47a1555cea548e280dcbede2c90011b": {
      "model_module": "@jupyter-widgets/base",
      "model_module_version": "1.2.0",
      "model_name": "LayoutModel",
      "state": {
       "height": "auto",
       "width": "auto"
      }
     },
     "f49409dc80c8426791fb3b54c88d0d8b": {
      "model_module": "ipysheet",
      "model_module_version": "~0.4.3",
      "model_name": "CellRangeModel",
      "state": {
       "_view_module": null,
       "_view_module_version": "",
       "row_end": 5,
       "row_start": 0,
       "squeeze_row": false,
       "type": "numeric",
       "value": [
        0.19,
        1.49,
        6.76,
        21.44,
        47.45,
        93.91
       ]
      }
     },
     "f5f7b4adb96f430d9f7c47da79f8108f": {
      "model_module": "ipysheet",
      "model_module_version": "~0.4.3",
      "model_name": "SheetModel",
      "state": {
       "cells": [
        "IPY_MODEL_0bff436500bb47fb9623e7b57675c6e1",
        "IPY_MODEL_bae5e9fce324479a8d04a046c4dc5962",
        "IPY_MODEL_7ebea4d569a548928fd01ee99e8fe71c"
       ],
       "column_headers": [
        "Tenor",
        "Bid",
        "Ask"
       ],
       "columns": 3,
       "layout": "IPY_MODEL_367d1e54de67487180b86e56aeaf687b",
       "row_headers": false,
       "rows": 6
      }
     },
     "f6efa571729e4bb1ac9e77503f62a353": {
      "model_module": "@jupyter-widgets/base",
      "model_module_version": "1.2.0",
      "model_name": "LayoutModel",
      "state": {
       "height": "auto",
       "width": "auto"
      }
     },
     "f79be6b08b5d4ef59b44b853a77e9cc4": {
      "model_module": "ipysheet",
      "model_module_version": "~0.4.3",
      "model_name": "SheetModel",
      "state": {
       "column_headers": [
        "Tenor",
        "Bid",
        "Ask"
       ],
       "columns": 3,
       "layout": "IPY_MODEL_85f2a502d6784ceab91c351cd48c8e12",
       "row_headers": false,
       "rows": 6
      }
     },
     "f801f1f837fc45bca361f158470951a7": {
      "model_module": "@jupyter-widgets/base",
      "model_module_version": "1.2.0",
      "model_name": "LayoutModel",
      "state": {
       "height": "auto",
       "width": "auto"
      }
     },
     "fa54beb3a909414ebdb9c1a05afb1618": {
      "model_module": "@jupyter-widgets/base",
      "model_module_version": "1.2.0",
      "model_name": "LayoutModel",
      "state": {
       "height": "auto",
       "width": "auto"
      }
     },
     "fbacf030d459444ba7ede72d58869ccf": {
      "model_module": "ipysheet",
      "model_module_version": "~0.4.3",
      "model_name": "SheetModel",
      "state": {
       "cells": [
        "IPY_MODEL_e0f635afb790496db879044351f309b0",
        "IPY_MODEL_b140100eb1864afab7caa407975b3cf1",
        "IPY_MODEL_f29868ca2e69400bba6e47d9492b3d46"
       ],
       "column_headers": [
        "Tenor",
        "Bid",
        "Ask"
       ],
       "columns": 3,
       "layout": "IPY_MODEL_1d2f7ef6c33146f68fae1c525e6c6209",
       "row_headers": false,
       "rows": 6
      }
     },
     "fbdaa54832084b22933d967e9eefe9da": {
      "model_module": "ipysheet",
      "model_module_version": "~0.4.3",
      "model_name": "SheetModel",
      "state": {
       "column_headers": [
        "Tenor",
        "Bid",
        "Ask"
       ],
       "columns": 3,
       "layout": "IPY_MODEL_f6efa571729e4bb1ac9e77503f62a353",
       "row_headers": false,
       "rows": 6
      }
     },
     "fe191b7374d94785875daff43ed841c8": {
      "model_module": "@jupyter-widgets/base",
      "model_module_version": "1.2.0",
      "model_name": "LayoutModel",
      "state": {
       "height": "auto",
       "width": "auto"
      }
     },
     "ff9aa28948184651a2972961f6b8ecdd": {
      "model_module": "@jupyter-widgets/base",
      "model_module_version": "1.2.0",
      "model_name": "LayoutModel",
      "state": {
       "height": "auto",
       "width": "auto"
      }
     },
     "ffc270de8faa451d87438a7f53c2922d": {
      "model_module": "@jupyter-widgets/base",
      "model_module_version": "1.2.0",
      "model_name": "LayoutModel",
      "state": {
       "height": "auto",
       "width": "auto"
      }
     },
     "ffe81305486d45adb9ab0e8cf7b4d5a5": {
      "model_module": "ipysheet",
      "model_module_version": "~0.4.3",
      "model_name": "CellRangeModel",
      "state": {
       "_view_module": null,
       "_view_module_version": "",
       "column_end": 2,
       "column_start": 2,
       "row_end": 5,
       "row_start": 0,
       "squeeze_row": false,
       "type": "numeric",
       "value": [
        0.15,
        -0.51,
        -2.32,
        -7.98,
        -21.73,
        -43.59
       ]
      }
     }
    },
    "version_major": 2,
    "version_minor": 0
   }
  }
 },
 "nbformat": 4,
 "nbformat_minor": 4
}
